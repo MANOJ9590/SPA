{
  "nbformat": 4,
  "nbformat_minor": 0,
  "metadata": {
    "colab": {
      "name": "DataTry.ipynb",
      "provenance": [],
      "authorship_tag": "ABX9TyMD+10Lnzaq/4e3Jbd9cCck",
      "include_colab_link": true
    },
    "kernelspec": {
      "name": "python3",
      "display_name": "Python 3"
    },
    "language_info": {
      "name": "python"
    }
  },
  "cells": [
    {
      "cell_type": "markdown",
      "metadata": {
        "id": "view-in-github",
        "colab_type": "text"
      },
      "source": [
        "<a href=\"https://colab.research.google.com/github/MANOJ9590/SPA/blob/main/DataTry.ipynb\" target=\"_parent\"><img src=\"https://colab.research.google.com/assets/colab-badge.svg\" alt=\"Open In Colab\"/></a>"
      ]
    },
    {
      "cell_type": "code",
      "execution_count": 1,
      "metadata": {
        "id": "z76hMVpZjxEj"
      },
      "outputs": [],
      "source": [
        "from datetime import datetime, timedelta\n",
        "import tensorflow as tf\n",
        "import pandas as pd\n",
        "import numpy as np"
      ]
    },
    {
      "cell_type": "code",
      "source": [
        "Death_URL=\"https://raw.githubusercontent.com/CSSEGISandData/COVID-19/master/csse_covid_19_data/csse_covid_19_time_series/time_series_covid19_deaths_global.csv\"\n",
        "Confirmed_cases_URL= \"https://raw.githubusercontent.com/CSSEGISandData/COVID-19/master/csse_covid_19_data/csse_covid_19_time_series/time_series_covid19_confirmed_global.csv\"\n",
        "Recovered_URL=\"https://raw.githubusercontent.com/CSSEGISandData/COVID-19/master/csse_covid_19_data/csse_covid_19_time_series/time_series_covid19_recovered_global.csv\"\n",
        "\n"
      ],
      "metadata": {
        "id": "MIZuzuRbkCff"
      },
      "execution_count": 2,
      "outputs": []
    },
    {
      "cell_type": "code",
      "source": [
        "confirmed_cases = pd.read_csv(Confirmed_cases_URL)\n",
        "deaths = pd.read_csv(Death_URL)\n",
        "recovered = pd.read_csv(Recovered_URL)\n"
      ],
      "metadata": {
        "id": "X74wEfHbAGLS"
      },
      "execution_count": 3,
      "outputs": []
    },
    {
      "cell_type": "code",
      "source": [
        "recovered[recovered['Country/Region'] == 'Germany'].transpose()\n",
        "\n"
      ],
      "metadata": {
        "colab": {
          "base_uri": "https://localhost:8080/",
          "height": 424
        },
        "id": "e1-FOJEGkR1W",
        "outputId": "bf086029-74ea-429e-c126-46c1f2372d3a"
      },
      "execution_count": 4,
      "outputs": [
        {
          "output_type": "execute_result",
          "data": {
            "text/plain": [
              "                      120\n",
              "Province/State        NaN\n",
              "Country/Region    Germany\n",
              "Lat             51.165691\n",
              "Long            10.451526\n",
              "1/22/20                 0\n",
              "...                   ...\n",
              "6/19/22                 0\n",
              "6/20/22                 0\n",
              "6/21/22                 0\n",
              "6/22/22                 0\n",
              "6/23/22                 0\n",
              "\n",
              "[888 rows x 1 columns]"
            ],
            "text/html": [
              "\n",
              "  <div id=\"df-30381a09-f0d9-43c8-91a9-d3ea30a2abe1\">\n",
              "    <div class=\"colab-df-container\">\n",
              "      <div>\n",
              "<style scoped>\n",
              "    .dataframe tbody tr th:only-of-type {\n",
              "        vertical-align: middle;\n",
              "    }\n",
              "\n",
              "    .dataframe tbody tr th {\n",
              "        vertical-align: top;\n",
              "    }\n",
              "\n",
              "    .dataframe thead th {\n",
              "        text-align: right;\n",
              "    }\n",
              "</style>\n",
              "<table border=\"1\" class=\"dataframe\">\n",
              "  <thead>\n",
              "    <tr style=\"text-align: right;\">\n",
              "      <th></th>\n",
              "      <th>120</th>\n",
              "    </tr>\n",
              "  </thead>\n",
              "  <tbody>\n",
              "    <tr>\n",
              "      <th>Province/State</th>\n",
              "      <td>NaN</td>\n",
              "    </tr>\n",
              "    <tr>\n",
              "      <th>Country/Region</th>\n",
              "      <td>Germany</td>\n",
              "    </tr>\n",
              "    <tr>\n",
              "      <th>Lat</th>\n",
              "      <td>51.165691</td>\n",
              "    </tr>\n",
              "    <tr>\n",
              "      <th>Long</th>\n",
              "      <td>10.451526</td>\n",
              "    </tr>\n",
              "    <tr>\n",
              "      <th>1/22/20</th>\n",
              "      <td>0</td>\n",
              "    </tr>\n",
              "    <tr>\n",
              "      <th>...</th>\n",
              "      <td>...</td>\n",
              "    </tr>\n",
              "    <tr>\n",
              "      <th>6/19/22</th>\n",
              "      <td>0</td>\n",
              "    </tr>\n",
              "    <tr>\n",
              "      <th>6/20/22</th>\n",
              "      <td>0</td>\n",
              "    </tr>\n",
              "    <tr>\n",
              "      <th>6/21/22</th>\n",
              "      <td>0</td>\n",
              "    </tr>\n",
              "    <tr>\n",
              "      <th>6/22/22</th>\n",
              "      <td>0</td>\n",
              "    </tr>\n",
              "    <tr>\n",
              "      <th>6/23/22</th>\n",
              "      <td>0</td>\n",
              "    </tr>\n",
              "  </tbody>\n",
              "</table>\n",
              "<p>888 rows × 1 columns</p>\n",
              "</div>\n",
              "      <button class=\"colab-df-convert\" onclick=\"convertToInteractive('df-30381a09-f0d9-43c8-91a9-d3ea30a2abe1')\"\n",
              "              title=\"Convert this dataframe to an interactive table.\"\n",
              "              style=\"display:none;\">\n",
              "        \n",
              "  <svg xmlns=\"http://www.w3.org/2000/svg\" height=\"24px\"viewBox=\"0 0 24 24\"\n",
              "       width=\"24px\">\n",
              "    <path d=\"M0 0h24v24H0V0z\" fill=\"none\"/>\n",
              "    <path d=\"M18.56 5.44l.94 2.06.94-2.06 2.06-.94-2.06-.94-.94-2.06-.94 2.06-2.06.94zm-11 1L8.5 8.5l.94-2.06 2.06-.94-2.06-.94L8.5 2.5l-.94 2.06-2.06.94zm10 10l.94 2.06.94-2.06 2.06-.94-2.06-.94-.94-2.06-.94 2.06-2.06.94z\"/><path d=\"M17.41 7.96l-1.37-1.37c-.4-.4-.92-.59-1.43-.59-.52 0-1.04.2-1.43.59L10.3 9.45l-7.72 7.72c-.78.78-.78 2.05 0 2.83L4 21.41c.39.39.9.59 1.41.59.51 0 1.02-.2 1.41-.59l7.78-7.78 2.81-2.81c.8-.78.8-2.07 0-2.86zM5.41 20L4 18.59l7.72-7.72 1.47 1.35L5.41 20z\"/>\n",
              "  </svg>\n",
              "      </button>\n",
              "      \n",
              "  <style>\n",
              "    .colab-df-container {\n",
              "      display:flex;\n",
              "      flex-wrap:wrap;\n",
              "      gap: 12px;\n",
              "    }\n",
              "\n",
              "    .colab-df-convert {\n",
              "      background-color: #E8F0FE;\n",
              "      border: none;\n",
              "      border-radius: 50%;\n",
              "      cursor: pointer;\n",
              "      display: none;\n",
              "      fill: #1967D2;\n",
              "      height: 32px;\n",
              "      padding: 0 0 0 0;\n",
              "      width: 32px;\n",
              "    }\n",
              "\n",
              "    .colab-df-convert:hover {\n",
              "      background-color: #E2EBFA;\n",
              "      box-shadow: 0px 1px 2px rgba(60, 64, 67, 0.3), 0px 1px 3px 1px rgba(60, 64, 67, 0.15);\n",
              "      fill: #174EA6;\n",
              "    }\n",
              "\n",
              "    [theme=dark] .colab-df-convert {\n",
              "      background-color: #3B4455;\n",
              "      fill: #D2E3FC;\n",
              "    }\n",
              "\n",
              "    [theme=dark] .colab-df-convert:hover {\n",
              "      background-color: #434B5C;\n",
              "      box-shadow: 0px 1px 3px 1px rgba(0, 0, 0, 0.15);\n",
              "      filter: drop-shadow(0px 1px 2px rgba(0, 0, 0, 0.3));\n",
              "      fill: #FFFFFF;\n",
              "    }\n",
              "  </style>\n",
              "\n",
              "      <script>\n",
              "        const buttonEl =\n",
              "          document.querySelector('#df-30381a09-f0d9-43c8-91a9-d3ea30a2abe1 button.colab-df-convert');\n",
              "        buttonEl.style.display =\n",
              "          google.colab.kernel.accessAllowed ? 'block' : 'none';\n",
              "\n",
              "        async function convertToInteractive(key) {\n",
              "          const element = document.querySelector('#df-30381a09-f0d9-43c8-91a9-d3ea30a2abe1');\n",
              "          const dataTable =\n",
              "            await google.colab.kernel.invokeFunction('convertToInteractive',\n",
              "                                                     [key], {});\n",
              "          if (!dataTable) return;\n",
              "\n",
              "          const docLinkHtml = 'Like what you see? Visit the ' +\n",
              "            '<a target=\"_blank\" href=https://colab.research.google.com/notebooks/data_table.ipynb>data table notebook</a>'\n",
              "            + ' to learn more about interactive tables.';\n",
              "          element.innerHTML = '';\n",
              "          dataTable['output_type'] = 'display_data';\n",
              "          await google.colab.output.renderOutput(dataTable, element);\n",
              "          const docLink = document.createElement('div');\n",
              "          docLink.innerHTML = docLinkHtml;\n",
              "          element.appendChild(docLink);\n",
              "        }\n",
              "      </script>\n",
              "    </div>\n",
              "  </div>\n",
              "  "
            ]
          },
          "metadata": {},
          "execution_count": 4
        }
      ]
    },
    {
      "cell_type": "code",
      "source": [
        "confirmed_PK = confirmed_cases[confirmed_cases['Country/Region'] == 'India']\n",
        "deaths_PK = deaths[deaths['Country/Region'] == 'India']\n",
        "recovered_PK = recovered[recovered['Country/Region'] == 'India']"
      ],
      "metadata": {
        "id": "5Ro5Mt_CFeq4"
      },
      "execution_count": 5,
      "outputs": []
    },
    {
      "cell_type": "code",
      "source": [
        "dates = np.array(confirmed_PK.iloc[0,38:].index)\n",
        "dates = [datetime.strptime(date, '%m/%d/%y').date() for date in dates] \n",
        "dates = [x.strftime('%d/%m/%y') for x in dates]"
      ],
      "metadata": {
        "id": "uoNV6DMpHAiD"
      },
      "execution_count": 6,
      "outputs": []
    },
    {
      "cell_type": "code",
      "source": [
        "confirmed_pk = np.array(confirmed_PK.iloc[0,38:])\n",
        "deaths_pk = np.array(deaths_PK.iloc[0,38:])\n",
        "recovered_pk = np.array(recovered_PK.iloc[0,38:])"
      ],
      "metadata": {
        "id": "3fXo1YiKHFgF"
      },
      "execution_count": 7,
      "outputs": []
    },
    {
      "cell_type": "code",
      "source": [
        "conf_death_recov = np.concatenate((confirmed_pk.reshape(-1,1), deaths_pk.reshape(-1,1), recovered_pk.reshape(-1,1)), axis = 1)\n"
      ],
      "metadata": {
        "id": "Sz6qg0YqHICC"
      },
      "execution_count": 8,
      "outputs": []
    },
    {
      "cell_type": "code",
      "source": [
        "print('The data taken from 25 feb 2020 because 1st two case was confirmed at that day. All the previous data is emitted.\\n')\n",
        "\n",
        "df =pd.DataFrame(np.append(np.array(dates).reshape(-1,1), conf_death_recov, axis = 1), columns = ['Date', 'Confirmed Cases', 'Deaths', 'Recoveries'])\n",
        "pd.DataFrame(np.append(np.array(dates).reshape(-1,1), conf_death_recov, axis = 1), columns = ['Date', 'Confirmed Cases', 'Deaths', 'Recoveries'])\n",
        "\n",
        "\n"
      ],
      "metadata": {
        "colab": {
          "base_uri": "https://localhost:8080/",
          "height": 458
        },
        "id": "hPxoEPqSHNAh",
        "outputId": "30e7ce27-fc04-4529-d6a8-7229005a774a"
      },
      "execution_count": 9,
      "outputs": [
        {
          "output_type": "stream",
          "name": "stdout",
          "text": [
            "The data taken from 25 feb 2020 because 1st two case was confirmed at that day. All the previous data is emitted.\n",
            "\n"
          ]
        },
        {
          "output_type": "execute_result",
          "data": {
            "text/plain": [
              "         Date Confirmed Cases  Deaths Recoveries\n",
              "0    25/02/20               3       0          3\n",
              "1    26/02/20               3       0          3\n",
              "2    27/02/20               3       0          3\n",
              "3    28/02/20               3       0          3\n",
              "4    29/02/20               3       0          3\n",
              "..        ...             ...     ...        ...\n",
              "845  19/06/22        43309473  524873          0\n",
              "846  20/06/22        43319396  524890          0\n",
              "847  21/06/22        43331645  524903          0\n",
              "848  22/06/22        43344958  524941          0\n",
              "849  23/06/22        43362294  524954          0\n",
              "\n",
              "[850 rows x 4 columns]"
            ],
            "text/html": [
              "\n",
              "  <div id=\"df-98677742-946c-4ced-adba-422a0d82f0f0\">\n",
              "    <div class=\"colab-df-container\">\n",
              "      <div>\n",
              "<style scoped>\n",
              "    .dataframe tbody tr th:only-of-type {\n",
              "        vertical-align: middle;\n",
              "    }\n",
              "\n",
              "    .dataframe tbody tr th {\n",
              "        vertical-align: top;\n",
              "    }\n",
              "\n",
              "    .dataframe thead th {\n",
              "        text-align: right;\n",
              "    }\n",
              "</style>\n",
              "<table border=\"1\" class=\"dataframe\">\n",
              "  <thead>\n",
              "    <tr style=\"text-align: right;\">\n",
              "      <th></th>\n",
              "      <th>Date</th>\n",
              "      <th>Confirmed Cases</th>\n",
              "      <th>Deaths</th>\n",
              "      <th>Recoveries</th>\n",
              "    </tr>\n",
              "  </thead>\n",
              "  <tbody>\n",
              "    <tr>\n",
              "      <th>0</th>\n",
              "      <td>25/02/20</td>\n",
              "      <td>3</td>\n",
              "      <td>0</td>\n",
              "      <td>3</td>\n",
              "    </tr>\n",
              "    <tr>\n",
              "      <th>1</th>\n",
              "      <td>26/02/20</td>\n",
              "      <td>3</td>\n",
              "      <td>0</td>\n",
              "      <td>3</td>\n",
              "    </tr>\n",
              "    <tr>\n",
              "      <th>2</th>\n",
              "      <td>27/02/20</td>\n",
              "      <td>3</td>\n",
              "      <td>0</td>\n",
              "      <td>3</td>\n",
              "    </tr>\n",
              "    <tr>\n",
              "      <th>3</th>\n",
              "      <td>28/02/20</td>\n",
              "      <td>3</td>\n",
              "      <td>0</td>\n",
              "      <td>3</td>\n",
              "    </tr>\n",
              "    <tr>\n",
              "      <th>4</th>\n",
              "      <td>29/02/20</td>\n",
              "      <td>3</td>\n",
              "      <td>0</td>\n",
              "      <td>3</td>\n",
              "    </tr>\n",
              "    <tr>\n",
              "      <th>...</th>\n",
              "      <td>...</td>\n",
              "      <td>...</td>\n",
              "      <td>...</td>\n",
              "      <td>...</td>\n",
              "    </tr>\n",
              "    <tr>\n",
              "      <th>845</th>\n",
              "      <td>19/06/22</td>\n",
              "      <td>43309473</td>\n",
              "      <td>524873</td>\n",
              "      <td>0</td>\n",
              "    </tr>\n",
              "    <tr>\n",
              "      <th>846</th>\n",
              "      <td>20/06/22</td>\n",
              "      <td>43319396</td>\n",
              "      <td>524890</td>\n",
              "      <td>0</td>\n",
              "    </tr>\n",
              "    <tr>\n",
              "      <th>847</th>\n",
              "      <td>21/06/22</td>\n",
              "      <td>43331645</td>\n",
              "      <td>524903</td>\n",
              "      <td>0</td>\n",
              "    </tr>\n",
              "    <tr>\n",
              "      <th>848</th>\n",
              "      <td>22/06/22</td>\n",
              "      <td>43344958</td>\n",
              "      <td>524941</td>\n",
              "      <td>0</td>\n",
              "    </tr>\n",
              "    <tr>\n",
              "      <th>849</th>\n",
              "      <td>23/06/22</td>\n",
              "      <td>43362294</td>\n",
              "      <td>524954</td>\n",
              "      <td>0</td>\n",
              "    </tr>\n",
              "  </tbody>\n",
              "</table>\n",
              "<p>850 rows × 4 columns</p>\n",
              "</div>\n",
              "      <button class=\"colab-df-convert\" onclick=\"convertToInteractive('df-98677742-946c-4ced-adba-422a0d82f0f0')\"\n",
              "              title=\"Convert this dataframe to an interactive table.\"\n",
              "              style=\"display:none;\">\n",
              "        \n",
              "  <svg xmlns=\"http://www.w3.org/2000/svg\" height=\"24px\"viewBox=\"0 0 24 24\"\n",
              "       width=\"24px\">\n",
              "    <path d=\"M0 0h24v24H0V0z\" fill=\"none\"/>\n",
              "    <path d=\"M18.56 5.44l.94 2.06.94-2.06 2.06-.94-2.06-.94-.94-2.06-.94 2.06-2.06.94zm-11 1L8.5 8.5l.94-2.06 2.06-.94-2.06-.94L8.5 2.5l-.94 2.06-2.06.94zm10 10l.94 2.06.94-2.06 2.06-.94-2.06-.94-.94-2.06-.94 2.06-2.06.94z\"/><path d=\"M17.41 7.96l-1.37-1.37c-.4-.4-.92-.59-1.43-.59-.52 0-1.04.2-1.43.59L10.3 9.45l-7.72 7.72c-.78.78-.78 2.05 0 2.83L4 21.41c.39.39.9.59 1.41.59.51 0 1.02-.2 1.41-.59l7.78-7.78 2.81-2.81c.8-.78.8-2.07 0-2.86zM5.41 20L4 18.59l7.72-7.72 1.47 1.35L5.41 20z\"/>\n",
              "  </svg>\n",
              "      </button>\n",
              "      \n",
              "  <style>\n",
              "    .colab-df-container {\n",
              "      display:flex;\n",
              "      flex-wrap:wrap;\n",
              "      gap: 12px;\n",
              "    }\n",
              "\n",
              "    .colab-df-convert {\n",
              "      background-color: #E8F0FE;\n",
              "      border: none;\n",
              "      border-radius: 50%;\n",
              "      cursor: pointer;\n",
              "      display: none;\n",
              "      fill: #1967D2;\n",
              "      height: 32px;\n",
              "      padding: 0 0 0 0;\n",
              "      width: 32px;\n",
              "    }\n",
              "\n",
              "    .colab-df-convert:hover {\n",
              "      background-color: #E2EBFA;\n",
              "      box-shadow: 0px 1px 2px rgba(60, 64, 67, 0.3), 0px 1px 3px 1px rgba(60, 64, 67, 0.15);\n",
              "      fill: #174EA6;\n",
              "    }\n",
              "\n",
              "    [theme=dark] .colab-df-convert {\n",
              "      background-color: #3B4455;\n",
              "      fill: #D2E3FC;\n",
              "    }\n",
              "\n",
              "    [theme=dark] .colab-df-convert:hover {\n",
              "      background-color: #434B5C;\n",
              "      box-shadow: 0px 1px 3px 1px rgba(0, 0, 0, 0.15);\n",
              "      filter: drop-shadow(0px 1px 2px rgba(0, 0, 0, 0.3));\n",
              "      fill: #FFFFFF;\n",
              "    }\n",
              "  </style>\n",
              "\n",
              "      <script>\n",
              "        const buttonEl =\n",
              "          document.querySelector('#df-98677742-946c-4ced-adba-422a0d82f0f0 button.colab-df-convert');\n",
              "        buttonEl.style.display =\n",
              "          google.colab.kernel.accessAllowed ? 'block' : 'none';\n",
              "\n",
              "        async function convertToInteractive(key) {\n",
              "          const element = document.querySelector('#df-98677742-946c-4ced-adba-422a0d82f0f0');\n",
              "          const dataTable =\n",
              "            await google.colab.kernel.invokeFunction('convertToInteractive',\n",
              "                                                     [key], {});\n",
              "          if (!dataTable) return;\n",
              "\n",
              "          const docLinkHtml = 'Like what you see? Visit the ' +\n",
              "            '<a target=\"_blank\" href=https://colab.research.google.com/notebooks/data_table.ipynb>data table notebook</a>'\n",
              "            + ' to learn more about interactive tables.';\n",
              "          element.innerHTML = '';\n",
              "          dataTable['output_type'] = 'display_data';\n",
              "          await google.colab.output.renderOutput(dataTable, element);\n",
              "          const docLink = document.createElement('div');\n",
              "          docLink.innerHTML = docLinkHtml;\n",
              "          element.appendChild(docLink);\n",
              "        }\n",
              "      </script>\n",
              "    </div>\n",
              "  </div>\n",
              "  "
            ]
          },
          "metadata": {},
          "execution_count": 9
        }
      ]
    },
    {
      "cell_type": "code",
      "source": [
        "#from google.colab import files\n",
        "#df.to_csv('Germany.csv') \n",
        "#files.download('Germany.csv')\n"
      ],
      "metadata": {
        "id": "-F4u_yJRH0o6"
      },
      "execution_count": 10,
      "outputs": []
    },
    {
      "cell_type": "code",
      "source": [
        "import matplotlib.pyplot as plt\n",
        "import matplotlib.ticker as plticker\n",
        "from matplotlib.pyplot import figure"
      ],
      "metadata": {
        "id": "wdczI6HcHRPb"
      },
      "execution_count": 10,
      "outputs": []
    },
    {
      "cell_type": "code",
      "source": [
        "plt.figure(figsize=(25,8))\n",
        "ax = plt.axes()\n",
        "ax.xaxis.set_major_locator(plticker.MultipleLocator(base=3.0)) # Skip x-axis ticks by ratio mentioned by base (float value)\n",
        "ax.tick_params(axis='both', which='major', labelsize=16)\n",
        "\n",
        "plt.plot(dates,confirmed_pk, 'bo-', linewidth = 5)\n",
        "plt.plot(dates,deaths_pk, 'ro-', linewidth = 5)\n",
        "plt.plot(dates,recovered_pk, 'go-', linewidth = 5)\n",
        "plt.legend(['Confirmed Cases', 'Deaths', 'Recoveries'], prop = {'size': 16})\n",
        "\n",
        "plt.xticks(rotation=80, weight = 'bold');\n",
        "plt.yticks(weight = 'bold');\n",
        "plt.show()"
      ],
      "metadata": {
        "colab": {
          "base_uri": "https://localhost:8080/",
          "height": 564
        },
        "id": "UJc4WK6XHVBS",
        "outputId": "a4d529fa-0cdf-4a20-9a72-57f553255108"
      },
      "execution_count": 11,
      "outputs": [
        {
          "output_type": "display_data",
          "data": {
            "text/plain": [
              "<Figure size 1800x576 with 1 Axes>"
            ],
            "image/png": "[encoded data removed]"
          },
          "metadata": {
            "needs_background": "light"
          }
        }
      ]
    },
    {
      "cell_type": "code",
      "source": [
        "from sklearn.preprocessing import PolynomialFeatures\n"
      ],
      "metadata": {
        "id": "_4s8f6zoHXAt"
      },
      "execution_count": 12,
      "outputs": []
    },
    {
      "cell_type": "code",
      "source": [
        "poly_reg = PolynomialFeatures(degree = 6)\n"
      ],
      "metadata": {
        "id": "F2IVbIezLSMS"
      },
      "execution_count": 13,
      "outputs": []
    },
    {
      "cell_type": "code",
      "source": [
        "input_data_simple = np.arange(0,len(confirmed_pk)) + 1\n"
      ],
      "metadata": {
        "id": "oC6JoZpLLT6r"
      },
      "execution_count": 14,
      "outputs": []
    },
    {
      "cell_type": "code",
      "source": [
        "input_data = poly_reg.fit_transform(input_data_simple.reshape(-1,1))\n"
      ],
      "metadata": {
        "id": "aE5zo2fOLVl5"
      },
      "execution_count": 15,
      "outputs": []
    },
    {
      "cell_type": "code",
      "source": [
        "inputData_dates = pd.Series(dates, index = input_data_simple)\n"
      ],
      "metadata": {
        "id": "-pb13NVWLXi7"
      },
      "execution_count": 17,
      "outputs": []
    },
    {
      "cell_type": "code",
      "source": [
        "from sklearn.preprocessing import StandardScaler\n"
      ],
      "metadata": {
        "id": "8GVcCAGXLZ1n"
      },
      "execution_count": 18,
      "outputs": []
    },
    {
      "cell_type": "code",
      "source": [
        "scx = StandardScaler()\n",
        "input_data_scaled = scx.fit_transform(input_data[:,1:])"
      ],
      "metadata": {
        "id": "Xii88sFTLboz"
      },
      "execution_count": 19,
      "outputs": []
    },
    {
      "cell_type": "code",
      "source": [
        "def generate_future_data(inp, days_to_get):\n",
        "    prep_future_data_simple = (np.arange(0, days_to_get + 1) + inp[-1]).reshape(-1,1)\n",
        "    generated_future_data = poly_reg.transform(prep_future_data_simple)\n",
        "    scaled_gen_future_data = scx.transform(generated_future_data[:,1:])\n",
        "    # Generating Dates\n",
        "    lastDate = inputData_dates[inp[-1]]\n",
        "    futureDates = [datetime.strptime(lastDate, '%d/%m/%y').date()]\n",
        "    for i in range(days_to_get):\n",
        "        futureDates.append(futureDates[-1] + timedelta(days=1))\n",
        "    futureDates = [x.strftime('%d/%m/%y') for x in futureDates]\n",
        "    \n",
        "    return generated_future_data, scaled_gen_future_data, futureDates"
      ],
      "metadata": {
        "id": "7djC2WFgLkbf"
      },
      "execution_count": 20,
      "outputs": []
    },
    {
      "cell_type": "code",
      "source": [
        "averageConfirmedCases = confirmed_pk[-1]/len(confirmed_pk)\n",
        "print('Average of Confirmed Cases: ', averageConfirmedCases)\n",
        "averageDeaths = deaths_pk[-1]/len(deaths_pk)\n",
        "print('Average of Deaths: ', averageDeaths)\n",
        "averageRecoveries = recovered_pk[-1]/len(recovered_pk)\n",
        "print('Average of Recoveries: ', averageRecoveries)"
      ],
      "metadata": {
        "colab": {
          "base_uri": "https://localhost:8080/"
        },
        "id": "dchDfwcwLoBP",
        "outputId": "7b65b813-1e5a-41ab-f7b8-1160087874c7"
      },
      "execution_count": 21,
      "outputs": [
        {
          "output_type": "stream",
          "name": "stdout",
          "text": [
            "Average of Confirmed Cases:  51014.46352941176\n",
            "Average of Deaths:  617.5929411764706\n",
            "Average of Recoveries:  0.0\n"
          ]
        }
      ]
    },
    {
      "cell_type": "code",
      "source": [
        "class annModel:\n",
        "    def __init__(self, X_data, Y_data, hidden_neurons = 200, activation = 'relu', lear_rate = 1e-1):\n",
        "        self.X_data = X_data\n",
        "        self.Y_data = Y_data\n",
        "        self.training = False\n",
        "        input_samples, input_shape = self.X_data.shape\n",
        "        try:\n",
        "            output_samples, output_shape = self.Y_data.shape\n",
        "        except:\n",
        "            output_shape = 1\n",
        "            \n",
        "        self.annDesign = tf.keras.models.Sequential([\n",
        "            tf.keras.layers.Input(shape=(input_shape,)),\n",
        "            tf.keras.layers.Dense(hidden_neurons, activation=activation),\n",
        "            tf.keras.layers.Dense(output_shape),\n",
        "        ])\n",
        "        compiler = self.annDesign.compile(optimizer = tf.keras.optimizers.Adam(lear_rate), loss='mse', metrics=['MeanAbsoluteError'])\n",
        "    def customize(self):\n",
        "        return self.annDesign\n",
        "    def summary(self):\n",
        "        return self.annDesign.summary()\n",
        "    def fit(self, epochs = 500):\n",
        "        fitting = self.annDesign.fit(self.X_data, self.Y_data, epochs = epochs)\n",
        "        self.training = True\n",
        "        return fitting\n",
        "    def predict(self, prediction_data):\n",
        "        if self.training:\n",
        "            predictions = self.annDesign.predict(prediction_data)\n",
        "            return predictions\n",
        "        else:\n",
        "            print(\"Neural network model is not trained. Please use fit method to train model\")"
      ],
      "metadata": {
        "id": "uIIyFBn4Lq-m"
      },
      "execution_count": 22,
      "outputs": []
    },
    {
      "cell_type": "code",
      "source": [
        "from sklearn.model_selection import train_test_split"
      ],
      "metadata": {
        "id": "dFZrU_Q5L0BO"
      },
      "execution_count": 23,
      "outputs": []
    },
    {
      "cell_type": "code",
      "source": [
        "dates_train, dates_test = train_test_split(dates, test_size=0.05, shuffle=False)\n",
        "input_train, input_test, output_train, output_test = train_test_split(input_data_scaled, conf_death_recov, \n",
        "                                                                                  test_size=0.05, shuffle=False)"
      ],
      "metadata": {
        "id": "27oeGBuIL2eV"
      },
      "execution_count": 24,
      "outputs": []
    },
    {
      "cell_type": "code",
      "source": [
        "input_train_tf = tf.convert_to_tensor(np.array(input_train), dtype=tf.float32)\n",
        "input_test_tf = tf.convert_to_tensor(np.array(input_test), dtype=tf.float32)\n",
        "output_train_tf = tf.convert_to_tensor(np.array(output_train), dtype=tf.float32)\n",
        "output_test_tf = tf.convert_to_tensor(np.array(output_test), dtype=tf.float32)\n"
      ],
      "metadata": {
        "id": "2JjqsW2lL651"
      },
      "execution_count": 25,
      "outputs": []
    },
    {
      "cell_type": "code",
      "source": [
        "ann_model_for_evaluation = annModel(input_train_tf, output_train_tf)\n"
      ],
      "metadata": {
        "id": "RQgBoSo9L9Jd"
      },
      "execution_count": 26,
      "outputs": []
    },
    {
      "cell_type": "code",
      "source": [
        "ann_model_for_evaluation.summary()"
      ],
      "metadata": {
        "colab": {
          "base_uri": "https://localhost:8080/"
        },
        "id": "8peD0M-0L_Cc",
        "outputId": "7af31842-64a2-4297-a1f3-56e9f9e4b390"
      },
      "execution_count": 27,
      "outputs": [
        {
          "output_type": "stream",
          "name": "stdout",
          "text": [
            "Model: \"sequential\"\n",
            "_________________________________________________________________\n",
            " Layer (type)                Output Shape              Param #   \n",
            "=================================================================\n",
            " dense (Dense)               (None, 200)               1400      \n",
            "                                                                 \n",
            " dense_1 (Dense)             (None, 3)                 603       \n",
            "                                                                 \n",
            "=================================================================\n",
            "Total params: 2,003\n",
            "Trainable params: 2,003\n",
            "Non-trainable params: 0\n",
            "_________________________________________________________________\n"
          ]
        }
      ]
    },
    {
      "cell_type": "code",
      "source": [
        "best_epochs = 4000"
      ],
      "metadata": {
        "id": "IMACU3hIMjKO"
      },
      "execution_count": 28,
      "outputs": []
    },
    {
      "cell_type": "code",
      "source": [
        "fitting_amfe = ann_model_for_evaluation.fit(best_epochs)\n"
      ],
      "metadata": {
        "colab": {
          "base_uri": "https://localhost:8080/",
          "height": 1000
        },
        "id": "JhleObdQPG5e",
        "outputId": "877176d7-e167-44bf-c5f0-287fee5cc3c4"
      },
      "execution_count": 29,
      "outputs": [
        {
          "output_type": "stream",
          "name": "stdout",
          "text": [
            "Epoch 1/4000\n",
            "26/26 [==============================] - 0s 2ms/step - loss: 246225374806016.0000 - mean_absolute_error: 8600433.0000\n",
            "Epoch 2/4000\n",
            "26/26 [==============================] - 0s 2ms/step - loss: 246085452824576.0000 - mean_absolute_error: 8595786.0000\n",
            "Epoch 3/4000\n",
            "26/26 [==============================] - 0s 2ms/step - loss: 245717964685312.0000 - mean_absolute_error: 8584512.0000\n",
            "Epoch 4/4000\n",
            "26/26 [==============================] - 0s 3ms/step - loss: 245057898676224.0000 - mean_absolute_error: 8566925.0000\n",
            "Epoch 5/4000\n",
            "26/26 [==============================] - 0s 2ms/step - loss: 244137920036864.0000 - mean_absolute_error: 8543614.0000\n",
            "Epoch 6/4000\n",
            "26/26 [==============================] - 0s 3ms/step - loss: 242924642107392.0000 - mean_absolute_error: 8514810.0000\n",
            "Epoch 7/4000\n",
            "26/26 [==============================] - 0s 2ms/step - loss: 241445428527104.0000 - mean_absolute_error: 8485382.0000\n",
            "Epoch 8/4000\n",
            "26/26 [==============================] - 0s 2ms/step - loss: 239665735008256.0000 - mean_absolute_error: 8453706.0000\n",
            "Epoch 9/4000\n",
            "26/26 [==============================] - 0s 2ms/step - loss: 237617622810624.0000 - mean_absolute_error: 8419492.0000\n",
            "Epoch 10/4000\n",
            "26/26 [==============================] - 0s 2ms/step - loss: 235392544538624.0000 - mean_absolute_error: 8379628.0000\n",
            "Epoch 11/4000\n",
            "26/26 [==============================] - 0s 2ms/step - loss: 232837961744384.0000 - mean_absolute_error: 8335441.0000\n",
            "Epoch 12/4000\n",
            "26/26 [==============================] - 0s 2ms/step - loss: 230052910333952.0000 - mean_absolute_error: 8284299.5000\n",
            "Epoch 13/4000\n",
            "26/26 [==============================] - 0s 2ms/step - loss: 227080709079040.0000 - mean_absolute_error: 8233361.5000\n",
            "Epoch 14/4000\n",
            "26/26 [==============================] - 0s 2ms/step - loss: 223906996682752.0000 - mean_absolute_error: 8179148.5000\n",
            "Epoch 15/4000\n",
            "26/26 [==============================] - 0s 2ms/step - loss: 220492665454592.0000 - mean_absolute_error: 8120962.5000\n",
            "Epoch 16/4000\n",
            "26/26 [==============================] - 0s 3ms/step - loss: 216980774715392.0000 - mean_absolute_error: 8060071.0000\n",
            "Epoch 17/4000\n",
            "26/26 [==============================] - 0s 2ms/step - loss: 213240629952512.0000 - mean_absolute_error: 7997465.5000\n",
            "Epoch 18/4000\n",
            "26/26 [==============================] - 0s 2ms/step - loss: 209426413780992.0000 - mean_absolute_error: 7932677.5000\n",
            "Epoch 19/4000\n",
            "26/26 [==============================] - 0s 2ms/step - loss: 205400469143552.0000 - mean_absolute_error: 7864008.5000\n",
            "Epoch 20/4000\n",
            "26/26 [==============================] - 0s 2ms/step - loss: 201323303665664.0000 - mean_absolute_error: 7797304.0000\n",
            "Epoch 21/4000\n",
            "26/26 [==============================] - 0s 2ms/step - loss: 197156245864448.0000 - mean_absolute_error: 7726518.5000\n",
            "Epoch 22/4000\n",
            "26/26 [==============================] - 0s 2ms/step - loss: 192787173605376.0000 - mean_absolute_error: 7651471.5000\n",
            "Epoch 23/4000\n",
            "26/26 [==============================] - 0s 2ms/step - loss: 188469120860160.0000 - mean_absolute_error: 7578449.0000\n",
            "Epoch 24/4000\n",
            "26/26 [==============================] - 0s 2ms/step - loss: 184063826591744.0000 - mean_absolute_error: 7502977.0000\n",
            "Epoch 25/4000\n",
            "26/26 [==============================] - 0s 2ms/step - loss: 179530572496896.0000 - mean_absolute_error: 7421949.0000\n",
            "Epoch 26/4000\n",
            "26/26 [==============================] - 0s 2ms/step - loss: 174985960226816.0000 - mean_absolute_error: 7340438.0000\n",
            "Epoch 27/4000\n",
            "26/26 [==============================] - 0s 2ms/step - loss: 170441113075712.0000 - mean_absolute_error: 7260394.0000\n",
            "Epoch 28/4000\n",
            "26/26 [==============================] - 0s 2ms/step - loss: 165912422383616.0000 - mean_absolute_error: 7176738.5000\n",
            "Epoch 29/4000\n",
            "26/26 [==============================] - 0s 3ms/step - loss: 161409551826944.0000 - mean_absolute_error: 7091709.0000\n",
            "Epoch 30/4000\n",
            "26/26 [==============================] - 0s 2ms/step - loss: 156846149074944.0000 - mean_absolute_error: 7006510.0000\n",
            "Epoch 31/4000\n",
            "26/26 [==============================] - 0s 2ms/step - loss: 152267680382976.0000 - mean_absolute_error: 6924620.0000\n",
            "Epoch 32/4000\n",
            "26/26 [==============================] - 0s 2ms/step - loss: 147686745440256.0000 - mean_absolute_error: 6830899.0000\n",
            "Epoch 33/4000\n",
            "26/26 [==============================] - 0s 3ms/step - loss: 143176459354112.0000 - mean_absolute_error: 6740864.0000\n",
            "Epoch 34/4000\n",
            "26/26 [==============================] - 0s 2ms/step - loss: 138606882586624.0000 - mean_absolute_error: 6650630.0000\n",
            "Epoch 35/4000\n",
            "26/26 [==============================] - 0s 3ms/step - loss: 134239295111168.0000 - mean_absolute_error: 6560636.0000\n",
            "Epoch 36/4000\n",
            "26/26 [==============================] - 0s 2ms/step - loss: 129945284116480.0000 - mean_absolute_error: 6471248.5000\n",
            "Epoch 37/4000\n",
            "26/26 [==============================] - 0s 2ms/step - loss: 125612802965504.0000 - mean_absolute_error: 6379577.0000\n",
            "Epoch 38/4000\n",
            "26/26 [==============================] - 0s 2ms/step - loss: 121527181770752.0000 - mean_absolute_error: 6290395.0000\n",
            "Epoch 39/4000\n",
            "26/26 [==============================] - 0s 2ms/step - loss: 117327114797056.0000 - mean_absolute_error: 6199651.5000\n",
            "Epoch 40/4000\n",
            "26/26 [==============================] - 0s 2ms/step - loss: 113410104623104.0000 - mean_absolute_error: 6108241.0000\n",
            "Epoch 41/4000\n",
            "26/26 [==============================] - 0s 2ms/step - loss: 109442343370752.0000 - mean_absolute_error: 6011347.0000\n",
            "Epoch 42/4000\n",
            "26/26 [==============================] - 0s 2ms/step - loss: 105661069262848.0000 - mean_absolute_error: 5922898.5000\n",
            "Epoch 43/4000\n",
            "26/26 [==============================] - 0s 2ms/step - loss: 101851609432064.0000 - mean_absolute_error: 5827673.0000\n",
            "Epoch 44/4000\n",
            "26/26 [==============================] - 0s 2ms/step - loss: 98175117426688.0000 - mean_absolute_error: 5732250.5000\n",
            "Epoch 45/4000\n",
            "26/26 [==============================] - 0s 2ms/step - loss: 94655962152960.0000 - mean_absolute_error: 5640025.0000\n",
            "Epoch 46/4000\n",
            "26/26 [==============================] - 0s 2ms/step - loss: 91200526745600.0000 - mean_absolute_error: 5545298.0000\n",
            "Epoch 47/4000\n",
            "26/26 [==============================] - 0s 2ms/step - loss: 87892177190912.0000 - mean_absolute_error: 5453003.5000\n",
            "Epoch 48/4000\n",
            "26/26 [==============================] - 0s 2ms/step - loss: 84593717805056.0000 - mean_absolute_error: 5357354.0000\n",
            "Epoch 49/4000\n",
            "26/26 [==============================] - 0s 3ms/step - loss: 81444122656768.0000 - mean_absolute_error: 5261463.5000\n",
            "Epoch 50/4000\n",
            "26/26 [==============================] - 0s 2ms/step - loss: 78417101848576.0000 - mean_absolute_error: 5168586.0000\n",
            "Epoch 51/4000\n",
            "26/26 [==============================] - 0s 2ms/step - loss: 75509274771456.0000 - mean_absolute_error: 5074017.0000\n",
            "Epoch 52/4000\n",
            "26/26 [==============================] - 0s 2ms/step - loss: 72732444196864.0000 - mean_absolute_error: 4984538.5000\n",
            "Epoch 53/4000\n",
            "26/26 [==============================] - 0s 2ms/step - loss: 70038312714240.0000 - mean_absolute_error: 4890458.0000\n",
            "Epoch 54/4000\n",
            "26/26 [==============================] - 0s 2ms/step - loss: 67519792545792.0000 - mean_absolute_error: 4803555.0000\n",
            "Epoch 55/4000\n",
            "26/26 [==============================] - 0s 2ms/step - loss: 65044414988288.0000 - mean_absolute_error: 4713704.0000\n",
            "Epoch 56/4000\n",
            "26/26 [==============================] - 0s 2ms/step - loss: 62700323340288.0000 - mean_absolute_error: 4630059.0000\n",
            "Epoch 57/4000\n",
            "26/26 [==============================] - 0s 2ms/step - loss: 60488973025280.0000 - mean_absolute_error: 4551426.5000\n",
            "Epoch 58/4000\n",
            "26/26 [==============================] - 0s 2ms/step - loss: 58323399344128.0000 - mean_absolute_error: 4473594.5000\n",
            "Epoch 59/4000\n",
            "26/26 [==============================] - 0s 2ms/step - loss: 56330895228928.0000 - mean_absolute_error: 4397432.0000\n",
            "Epoch 60/4000\n",
            "26/26 [==============================] - 0s 2ms/step - loss: 54420301676544.0000 - mean_absolute_error: 4327416.0000\n",
            "Epoch 61/4000\n",
            "26/26 [==============================] - 0s 2ms/step - loss: 52628675362816.0000 - mean_absolute_error: 4259521.0000\n",
            "Epoch 62/4000\n",
            "26/26 [==============================] - 0s 2ms/step - loss: 50876697804800.0000 - mean_absolute_error: 4189232.7500\n",
            "Epoch 63/4000\n",
            "26/26 [==============================] - 0s 2ms/step - loss: 49238390079488.0000 - mean_absolute_error: 4122457.2500\n",
            "Epoch 64/4000\n",
            "26/26 [==============================] - 0s 2ms/step - loss: 47675814707200.0000 - mean_absolute_error: 4059322.0000\n",
            "Epoch 65/4000\n",
            "26/26 [==============================] - 0s 4ms/step - loss: 46194076155904.0000 - mean_absolute_error: 3999109.7500\n",
            "Epoch 66/4000\n",
            "26/26 [==============================] - 0s 3ms/step - loss: 44831766216704.0000 - mean_absolute_error: 3937167.7500\n",
            "Epoch 67/4000\n",
            "26/26 [==============================] - 0s 3ms/step - loss: 43522115764224.0000 - mean_absolute_error: 3879309.7500\n",
            "Epoch 68/4000\n",
            "26/26 [==============================] - 0s 3ms/step - loss: 42282019454976.0000 - mean_absolute_error: 3821217.7500\n",
            "Epoch 69/4000\n",
            "26/26 [==============================] - 0s 2ms/step - loss: 41116552396800.0000 - mean_absolute_error: 3763657.7500\n",
            "Epoch 70/4000\n",
            "26/26 [==============================] - 0s 3ms/step - loss: 40015497265152.0000 - mean_absolute_error: 3709001.0000\n",
            "Epoch 71/4000\n",
            "26/26 [==============================] - 0s 2ms/step - loss: 38983249690624.0000 - mean_absolute_error: 3652350.0000\n",
            "Epoch 72/4000\n",
            "26/26 [==============================] - 0s 2ms/step - loss: 38014273191936.0000 - mean_absolute_error: 3599558.5000\n",
            "Epoch 73/4000\n",
            "26/26 [==============================] - 0s 2ms/step - loss: 37084190474240.0000 - mean_absolute_error: 3551424.5000\n",
            "Epoch 74/4000\n",
            "26/26 [==============================] - 0s 3ms/step - loss: 36166715834368.0000 - mean_absolute_error: 3497563.2500\n",
            "Epoch 75/4000\n",
            "26/26 [==============================] - 0s 2ms/step - loss: 35332166778880.0000 - mean_absolute_error: 3448356.7500\n",
            "Epoch 76/4000\n",
            "26/26 [==============================] - 0s 3ms/step - loss: 34540791791616.0000 - mean_absolute_error: 3399078.2500\n",
            "Epoch 77/4000\n",
            "26/26 [==============================] - 0s 2ms/step - loss: 33793939341312.0000 - mean_absolute_error: 3353012.7500\n",
            "Epoch 78/4000\n",
            "26/26 [==============================] - 0s 3ms/step - loss: 33077352988672.0000 - mean_absolute_error: 3310887.2500\n",
            "Epoch 79/4000\n",
            "26/26 [==============================] - 0s 2ms/step - loss: 32384481230848.0000 - mean_absolute_error: 3269154.0000\n",
            "Epoch 80/4000\n",
            "26/26 [==============================] - 0s 2ms/step - loss: 31710446092288.0000 - mean_absolute_error: 3229707.7500\n",
            "Epoch 81/4000\n",
            "26/26 [==============================] - 0s 2ms/step - loss: 31075623501824.0000 - mean_absolute_error: 3192936.2500\n",
            "Epoch 82/4000\n",
            "26/26 [==============================] - 0s 2ms/step - loss: 30490545356800.0000 - mean_absolute_error: 3155795.7500\n",
            "Epoch 83/4000\n",
            "26/26 [==============================] - 0s 2ms/step - loss: 29937402642432.0000 - mean_absolute_error: 3122600.7500\n",
            "Epoch 84/4000\n",
            "26/26 [==============================] - 0s 2ms/step - loss: 29402182189056.0000 - mean_absolute_error: 3086467.7500\n",
            "Epoch 85/4000\n",
            "26/26 [==============================] - 0s 2ms/step - loss: 28889902481408.0000 - mean_absolute_error: 3054918.5000\n",
            "Epoch 86/4000\n",
            "26/26 [==============================] - 0s 2ms/step - loss: 28407232462848.0000 - mean_absolute_error: 3025792.7500\n",
            "Epoch 87/4000\n",
            "26/26 [==============================] - 0s 2ms/step - loss: 27932495970304.0000 - mean_absolute_error: 2995890.0000\n",
            "Epoch 88/4000\n",
            "26/26 [==============================] - 0s 2ms/step - loss: 27478389161984.0000 - mean_absolute_error: 2972778.5000\n",
            "Epoch 89/4000\n",
            "26/26 [==============================] - 0s 2ms/step - loss: 27049272016896.0000 - mean_absolute_error: 2948828.5000\n",
            "Epoch 90/4000\n",
            "26/26 [==============================] - 0s 2ms/step - loss: 26630718226432.0000 - mean_absolute_error: 2926784.5000\n",
            "Epoch 91/4000\n",
            "26/26 [==============================] - 0s 2ms/step - loss: 26247037976576.0000 - mean_absolute_error: 2900269.0000\n",
            "Epoch 92/4000\n",
            "26/26 [==============================] - 0s 2ms/step - loss: 25884727705600.0000 - mean_absolute_error: 2877950.7500\n",
            "Epoch 93/4000\n",
            "26/26 [==============================] - 0s 3ms/step - loss: 25536661291008.0000 - mean_absolute_error: 2853847.5000\n",
            "Epoch 94/4000\n",
            "26/26 [==============================] - 0s 3ms/step - loss: 25207160963072.0000 - mean_absolute_error: 2833646.5000\n",
            "Epoch 95/4000\n",
            "26/26 [==============================] - 0s 2ms/step - loss: 24888196726784.0000 - mean_absolute_error: 2814307.5000\n",
            "Epoch 96/4000\n",
            "26/26 [==============================] - 0s 2ms/step - loss: 24585925820416.0000 - mean_absolute_error: 2794787.0000\n",
            "Epoch 97/4000\n",
            "26/26 [==============================] - 0s 3ms/step - loss: 24298404184064.0000 - mean_absolute_error: 2774130.5000\n",
            "Epoch 98/4000\n",
            "26/26 [==============================] - 0s 2ms/step - loss: 24028037251072.0000 - mean_absolute_error: 2755451.0000\n",
            "Epoch 99/4000\n",
            "26/26 [==============================] - 0s 2ms/step - loss: 23760339992576.0000 - mean_absolute_error: 2740885.0000\n",
            "Epoch 100/4000\n",
            "26/26 [==============================] - 0s 2ms/step - loss: 23499668193280.0000 - mean_absolute_error: 2725482.2500\n",
            "Epoch 101/4000\n",
            "26/26 [==============================] - 0s 2ms/step - loss: 23257463914496.0000 - mean_absolute_error: 2708585.2500\n",
            "Epoch 102/4000\n",
            "26/26 [==============================] - 0s 2ms/step - loss: 23032120737792.0000 - mean_absolute_error: 2692261.2500\n",
            "Epoch 103/4000\n",
            "26/26 [==============================] - 0s 2ms/step - loss: 22816822919168.0000 - mean_absolute_error: 2677281.0000\n",
            "Epoch 104/4000\n",
            "26/26 [==============================] - 0s 2ms/step - loss: 22614217064448.0000 - mean_absolute_error: 2661922.0000\n",
            "Epoch 105/4000\n",
            "26/26 [==============================] - 0s 2ms/step - loss: 22419045613568.0000 - mean_absolute_error: 2650221.0000\n",
            "Epoch 106/4000\n",
            "26/26 [==============================] - 0s 2ms/step - loss: 22234085195776.0000 - mean_absolute_error: 2634941.0000\n",
            "Epoch 107/4000\n",
            "26/26 [==============================] - 0s 3ms/step - loss: 22066065571840.0000 - mean_absolute_error: 2619587.0000\n",
            "Epoch 108/4000\n",
            "26/26 [==============================] - 0s 2ms/step - loss: 21903410462720.0000 - mean_absolute_error: 2606047.2500\n",
            "Epoch 109/4000\n",
            "26/26 [==============================] - 0s 2ms/step - loss: 21744914006016.0000 - mean_absolute_error: 2596931.0000\n",
            "Epoch 110/4000\n",
            "26/26 [==============================] - 0s 2ms/step - loss: 21603431743488.0000 - mean_absolute_error: 2587587.7500\n",
            "Epoch 111/4000\n",
            "26/26 [==============================] - 0s 2ms/step - loss: 21455402172416.0000 - mean_absolute_error: 2575608.7500\n",
            "Epoch 112/4000\n",
            "26/26 [==============================] - 0s 2ms/step - loss: 21323986239488.0000 - mean_absolute_error: 2562093.0000\n",
            "Epoch 113/4000\n",
            "26/26 [==============================] - 0s 2ms/step - loss: 21198446526464.0000 - mean_absolute_error: 2550203.7500\n",
            "Epoch 114/4000\n",
            "26/26 [==============================] - 0s 2ms/step - loss: 21075461144576.0000 - mean_absolute_error: 2542257.7500\n",
            "Epoch 115/4000\n",
            "26/26 [==============================] - 0s 2ms/step - loss: 20961403338752.0000 - mean_absolute_error: 2530077.2500\n",
            "Epoch 116/4000\n",
            "26/26 [==============================] - 0s 3ms/step - loss: 20856675762176.0000 - mean_absolute_error: 2520404.2500\n",
            "Epoch 117/4000\n",
            "26/26 [==============================] - 0s 2ms/step - loss: 20756584988672.0000 - mean_absolute_error: 2517923.2500\n",
            "Epoch 118/4000\n",
            "26/26 [==============================] - 0s 2ms/step - loss: 20657234509824.0000 - mean_absolute_error: 2508694.7500\n",
            "Epoch 119/4000\n",
            "26/26 [==============================] - 0s 2ms/step - loss: 20555201773568.0000 - mean_absolute_error: 2498714.5000\n",
            "Epoch 120/4000\n",
            "26/26 [==============================] - 0s 2ms/step - loss: 20460957859840.0000 - mean_absolute_error: 2489752.5000\n",
            "Epoch 121/4000\n",
            "26/26 [==============================] - 0s 2ms/step - loss: 20376088215552.0000 - mean_absolute_error: 2480596.5000\n",
            "Epoch 122/4000\n",
            "26/26 [==============================] - 0s 2ms/step - loss: 20290891415552.0000 - mean_absolute_error: 2473437.5000\n",
            "Epoch 123/4000\n",
            "26/26 [==============================] - 0s 2ms/step - loss: 20213613461504.0000 - mean_absolute_error: 2468541.5000\n",
            "Epoch 124/4000\n",
            "26/26 [==============================] - 0s 2ms/step - loss: 20138906615808.0000 - mean_absolute_error: 2461521.0000\n",
            "Epoch 125/4000\n",
            "26/26 [==============================] - 0s 2ms/step - loss: 20066420654080.0000 - mean_absolute_error: 2454401.2500\n",
            "Epoch 126/4000\n",
            "26/26 [==============================] - 0s 2ms/step - loss: 19998210785280.0000 - mean_absolute_error: 2445704.5000\n",
            "Epoch 127/4000\n",
            "26/26 [==============================] - 0s 2ms/step - loss: 19939922542592.0000 - mean_absolute_error: 2441332.5000\n",
            "Epoch 128/4000\n",
            "26/26 [==============================] - 0s 2ms/step - loss: 19875726622720.0000 - mean_absolute_error: 2433346.5000\n",
            "Epoch 129/4000\n",
            "26/26 [==============================] - 0s 2ms/step - loss: 19812801576960.0000 - mean_absolute_error: 2427894.7500\n",
            "Epoch 130/4000\n",
            "26/26 [==============================] - 0s 2ms/step - loss: 19756314787840.0000 - mean_absolute_error: 2421465.5000\n",
            "Epoch 131/4000\n",
            "26/26 [==============================] - 0s 2ms/step - loss: 19697030397952.0000 - mean_absolute_error: 2415490.0000\n",
            "Epoch 132/4000\n",
            "26/26 [==============================] - 0s 2ms/step - loss: 19654470795264.0000 - mean_absolute_error: 2412869.5000\n",
            "Epoch 133/4000\n",
            "26/26 [==============================] - 0s 2ms/step - loss: 19594607591424.0000 - mean_absolute_error: 2406252.7500\n",
            "Epoch 134/4000\n",
            "26/26 [==============================] - 0s 2ms/step - loss: 19540777893888.0000 - mean_absolute_error: 2399538.0000\n",
            "Epoch 135/4000\n",
            "26/26 [==============================] - 0s 2ms/step - loss: 19496951611392.0000 - mean_absolute_error: 2391607.7500\n",
            "Epoch 136/4000\n",
            "26/26 [==============================] - 0s 2ms/step - loss: 19452131278848.0000 - mean_absolute_error: 2385961.5000\n",
            "Epoch 137/4000\n",
            "26/26 [==============================] - 0s 2ms/step - loss: 19401610887168.0000 - mean_absolute_error: 2381449.2500\n",
            "Epoch 138/4000\n",
            "26/26 [==============================] - 0s 2ms/step - loss: 19357476323328.0000 - mean_absolute_error: 2377654.7500\n",
            "Epoch 139/4000\n",
            "26/26 [==============================] - 0s 3ms/step - loss: 19312230268928.0000 - mean_absolute_error: 2374315.0000\n",
            "Epoch 140/4000\n",
            "26/26 [==============================] - 0s 2ms/step - loss: 19268454318080.0000 - mean_absolute_error: 2368058.7500\n",
            "Epoch 141/4000\n",
            "26/26 [==============================] - 0s 3ms/step - loss: 19225208946688.0000 - mean_absolute_error: 2363839.5000\n",
            "Epoch 142/4000\n",
            "26/26 [==============================] - 0s 4ms/step - loss: 19182617886720.0000 - mean_absolute_error: 2360946.0000\n",
            "Epoch 143/4000\n",
            "26/26 [==============================] - 0s 4ms/step - loss: 19142939770880.0000 - mean_absolute_error: 2361421.0000\n",
            "Epoch 144/4000\n",
            "26/26 [==============================] - 0s 4ms/step - loss: 19104385728512.0000 - mean_absolute_error: 2356889.2500\n",
            "Epoch 145/4000\n",
            "26/26 [==============================] - 0s 5ms/step - loss: 19061580759040.0000 - mean_absolute_error: 2350637.2500\n",
            "Epoch 146/4000\n",
            "26/26 [==============================] - 0s 5ms/step - loss: 19025631379456.0000 - mean_absolute_error: 2346730.2500\n",
            "Epoch 147/4000\n",
            "26/26 [==============================] - 0s 5ms/step - loss: 18981964480512.0000 - mean_absolute_error: 2342944.5000\n",
            "Epoch 148/4000\n",
            "26/26 [==============================] - 0s 5ms/step - loss: 18942449942528.0000 - mean_absolute_error: 2338653.5000\n",
            "Epoch 149/4000\n",
            "26/26 [==============================] - 0s 8ms/step - loss: 18903918968832.0000 - mean_absolute_error: 2332378.0000\n",
            "Epoch 150/4000\n",
            "26/26 [==============================] - 0s 7ms/step - loss: 18865570447360.0000 - mean_absolute_error: 2331858.2500\n",
            "Epoch 151/4000\n",
            "26/26 [==============================] - 0s 4ms/step - loss: 18829025476608.0000 - mean_absolute_error: 2328051.5000\n",
            "Epoch 152/4000\n",
            "26/26 [==============================] - 0s 4ms/step - loss: 18789236211712.0000 - mean_absolute_error: 2326393.2500\n",
            "Epoch 153/4000\n",
            "26/26 [==============================] - 0s 4ms/step - loss: 18750252253184.0000 - mean_absolute_error: 2323657.0000\n",
            "Epoch 154/4000\n",
            "26/26 [==============================] - 0s 4ms/step - loss: 18713854083072.0000 - mean_absolute_error: 2321020.2500\n",
            "Epoch 155/4000\n",
            "26/26 [==============================] - 0s 5ms/step - loss: 18674683478016.0000 - mean_absolute_error: 2314473.2500\n",
            "Epoch 156/4000\n",
            "26/26 [==============================] - 0s 5ms/step - loss: 18641521213440.0000 - mean_absolute_error: 2308463.2500\n",
            "Epoch 157/4000\n",
            "26/26 [==============================] - 0s 4ms/step - loss: 18598347145216.0000 - mean_absolute_error: 2307667.2500\n",
            "Epoch 158/4000\n",
            "26/26 [==============================] - 0s 4ms/step - loss: 18567487553536.0000 - mean_absolute_error: 2305833.7500\n",
            "Epoch 159/4000\n",
            "26/26 [==============================] - 0s 5ms/step - loss: 18526972674048.0000 - mean_absolute_error: 2300483.7500\n",
            "Epoch 160/4000\n",
            "26/26 [==============================] - 0s 5ms/step - loss: 18488068407296.0000 - mean_absolute_error: 2298487.5000\n",
            "Epoch 161/4000\n",
            "26/26 [==============================] - 0s 5ms/step - loss: 18452813185024.0000 - mean_absolute_error: 2293777.7500\n",
            "Epoch 162/4000\n",
            "26/26 [==============================] - 0s 6ms/step - loss: 18417251778560.0000 - mean_absolute_error: 2290286.0000\n",
            "Epoch 163/4000\n",
            "26/26 [==============================] - 0s 7ms/step - loss: 18382179008512.0000 - mean_absolute_error: 2287332.0000\n",
            "Epoch 164/4000\n",
            "26/26 [==============================] - 0s 5ms/step - loss: 18345199927296.0000 - mean_absolute_error: 2285195.5000\n",
            "Epoch 165/4000\n",
            "26/26 [==============================] - 0s 5ms/step - loss: 18307744792576.0000 - mean_absolute_error: 2280230.7500\n",
            "Epoch 166/4000\n",
            "26/26 [==============================] - 0s 3ms/step - loss: 18271294193664.0000 - mean_absolute_error: 2274952.0000\n",
            "Epoch 167/4000\n",
            "26/26 [==============================] - 0s 4ms/step - loss: 18242762440704.0000 - mean_absolute_error: 2276978.5000\n",
            "Epoch 168/4000\n",
            "26/26 [==============================] - 0s 5ms/step - loss: 18199579983872.0000 - mean_absolute_error: 2270088.5000\n",
            "Epoch 169/4000\n",
            "26/26 [==============================] - 0s 5ms/step - loss: 18167155916800.0000 - mean_absolute_error: 2268492.2500\n",
            "Epoch 170/4000\n",
            "26/26 [==============================] - 0s 6ms/step - loss: 18127326806016.0000 - mean_absolute_error: 2264095.0000\n",
            "Epoch 171/4000\n",
            "26/26 [==============================] - 0s 5ms/step - loss: 18091580850176.0000 - mean_absolute_error: 2259438.5000\n",
            "Epoch 172/4000\n",
            "26/26 [==============================] - 0s 4ms/step - loss: 18059691556864.0000 - mean_absolute_error: 2254040.5000\n",
            "Epoch 173/4000\n",
            "26/26 [==============================] - 0s 3ms/step - loss: 18029513539584.0000 - mean_absolute_error: 2251381.2500\n",
            "Epoch 174/4000\n",
            "26/26 [==============================] - 0s 4ms/step - loss: 17990200328192.0000 - mean_absolute_error: 2248597.0000\n",
            "Epoch 175/4000\n",
            "26/26 [==============================] - 0s 4ms/step - loss: 17956316643328.0000 - mean_absolute_error: 2245966.0000\n",
            "Epoch 176/4000\n",
            "26/26 [==============================] - 0s 4ms/step - loss: 17920417595392.0000 - mean_absolute_error: 2242778.5000\n",
            "Epoch 177/4000\n",
            "26/26 [==============================] - 0s 4ms/step - loss: 17891661447168.0000 - mean_absolute_error: 2240262.2500\n",
            "Epoch 178/4000\n",
            "26/26 [==============================] - 0s 4ms/step - loss: 17851054292992.0000 - mean_absolute_error: 2233493.2500\n",
            "Epoch 179/4000\n",
            "26/26 [==============================] - 0s 7ms/step - loss: 17816581308416.0000 - mean_absolute_error: 2231597.7500\n",
            "Epoch 180/4000\n",
            "26/26 [==============================] - 0s 3ms/step - loss: 17782148169728.0000 - mean_absolute_error: 2231242.7500\n",
            "Epoch 181/4000\n",
            "26/26 [==============================] - 0s 4ms/step - loss: 17749172551680.0000 - mean_absolute_error: 2228528.0000\n",
            "Epoch 182/4000\n",
            "26/26 [==============================] - 0s 5ms/step - loss: 17716184350720.0000 - mean_absolute_error: 2224376.7500\n",
            "Epoch 183/4000\n",
            "26/26 [==============================] - 0s 5ms/step - loss: 17681963024384.0000 - mean_absolute_error: 2221050.0000\n",
            "Epoch 184/4000\n",
            "26/26 [==============================] - 0s 5ms/step - loss: 17646424686592.0000 - mean_absolute_error: 2215204.0000\n",
            "Epoch 185/4000\n",
            "26/26 [==============================] - 0s 7ms/step - loss: 17612287246336.0000 - mean_absolute_error: 2212070.0000\n",
            "Epoch 186/4000\n",
            "26/26 [==============================] - 0s 4ms/step - loss: 17579795021824.0000 - mean_absolute_error: 2206124.2500\n",
            "Epoch 187/4000\n",
            "26/26 [==============================] - 0s 5ms/step - loss: 17542463619072.0000 - mean_absolute_error: 2201491.2500\n",
            "Epoch 188/4000\n",
            "26/26 [==============================] - 0s 3ms/step - loss: 17508928061440.0000 - mean_absolute_error: 2198746.0000\n",
            "Epoch 189/4000\n",
            "26/26 [==============================] - 0s 7ms/step - loss: 17474681569280.0000 - mean_absolute_error: 2195817.5000\n",
            "Epoch 190/4000\n",
            "26/26 [==============================] - 0s 5ms/step - loss: 17442916007936.0000 - mean_absolute_error: 2191226.2500\n",
            "Epoch 191/4000\n",
            "26/26 [==============================] - 0s 4ms/step - loss: 17412844945408.0000 - mean_absolute_error: 2184325.0000\n",
            "Epoch 192/4000\n",
            "26/26 [==============================] - 0s 4ms/step - loss: 17386816143360.0000 - mean_absolute_error: 2184118.5000\n",
            "Epoch 193/4000\n",
            "26/26 [==============================] - 0s 6ms/step - loss: 17345091207168.0000 - mean_absolute_error: 2179655.7500\n",
            "Epoch 194/4000\n",
            "26/26 [==============================] - 0s 6ms/step - loss: 17314528362496.0000 - mean_absolute_error: 2173134.5000\n",
            "Epoch 195/4000\n",
            "26/26 [==============================] - 0s 4ms/step - loss: 17279163039744.0000 - mean_absolute_error: 2168546.7500\n",
            "Epoch 196/4000\n",
            "26/26 [==============================] - 0s 7ms/step - loss: 17249948663808.0000 - mean_absolute_error: 2167111.0000\n",
            "Epoch 197/4000\n",
            "26/26 [==============================] - 0s 4ms/step - loss: 17215987384320.0000 - mean_absolute_error: 2163649.2500\n",
            "Epoch 198/4000\n",
            "26/26 [==============================] - 0s 5ms/step - loss: 17185379450880.0000 - mean_absolute_error: 2157416.2500\n",
            "Epoch 199/4000\n",
            "26/26 [==============================] - 0s 4ms/step - loss: 17151819776000.0000 - mean_absolute_error: 2151872.5000\n",
            "Epoch 200/4000\n",
            "26/26 [==============================] - 0s 4ms/step - loss: 17121739276288.0000 - mean_absolute_error: 2152704.2500\n",
            "Epoch 201/4000\n",
            "26/26 [==============================] - 0s 3ms/step - loss: 17091549724672.0000 - mean_absolute_error: 2148464.2500\n",
            "Epoch 202/4000\n",
            "26/26 [==============================] - 0s 5ms/step - loss: 17057583202304.0000 - mean_absolute_error: 2143752.5000\n",
            "Epoch 203/4000\n",
            "26/26 [==============================] - 0s 4ms/step - loss: 17024092733440.0000 - mean_absolute_error: 2139478.5000\n",
            "Epoch 204/4000\n",
            "26/26 [==============================] - 0s 5ms/step - loss: 16993950367744.0000 - mean_absolute_error: 2138937.2500\n",
            "Epoch 205/4000\n",
            "26/26 [==============================] - 0s 5ms/step - loss: 16967074316288.0000 - mean_absolute_error: 2136838.0000\n",
            "Epoch 206/4000\n",
            "26/26 [==============================] - 0s 8ms/step - loss: 16929069727744.0000 - mean_absolute_error: 2136025.2500\n",
            "Epoch 207/4000\n",
            "26/26 [==============================] - 0s 6ms/step - loss: 16898215378944.0000 - mean_absolute_error: 2133102.0000\n",
            "Epoch 208/4000\n",
            "26/26 [==============================] - 0s 5ms/step - loss: 16870033850368.0000 - mean_absolute_error: 2124260.0000\n",
            "Epoch 209/4000\n",
            "26/26 [==============================] - 0s 6ms/step - loss: 16838460178432.0000 - mean_absolute_error: 2120320.2500\n",
            "Epoch 210/4000\n",
            "26/26 [==============================] - 0s 5ms/step - loss: 16807205273600.0000 - mean_absolute_error: 2116607.0000\n",
            "Epoch 211/4000\n",
            "26/26 [==============================] - 0s 4ms/step - loss: 16778192224256.0000 - mean_absolute_error: 2113313.7500\n",
            "Epoch 212/4000\n",
            "26/26 [==============================] - 0s 5ms/step - loss: 16743226408960.0000 - mean_absolute_error: 2108013.2500\n",
            "Epoch 213/4000\n",
            "26/26 [==============================] - 0s 6ms/step - loss: 16718179074048.0000 - mean_absolute_error: 2103492.2500\n",
            "Epoch 214/4000\n",
            "26/26 [==============================] - 0s 4ms/step - loss: 16682755031040.0000 - mean_absolute_error: 2099638.0000\n",
            "Epoch 215/4000\n",
            "26/26 [==============================] - 0s 4ms/step - loss: 16655909388288.0000 - mean_absolute_error: 2097615.2500\n",
            "Epoch 216/4000\n",
            "26/26 [==============================] - 0s 5ms/step - loss: 16627843203072.0000 - mean_absolute_error: 2094701.6250\n",
            "Epoch 217/4000\n",
            "26/26 [==============================] - 0s 9ms/step - loss: 16595086737408.0000 - mean_absolute_error: 2090884.6250\n",
            "Epoch 218/4000\n",
            "26/26 [==============================] - 0s 8ms/step - loss: 16585297231872.0000 - mean_absolute_error: 2087655.1250\n",
            "Epoch 219/4000\n",
            "26/26 [==============================] - 0s 5ms/step - loss: 16536700977152.0000 - mean_absolute_error: 2080750.8750\n",
            "Epoch 220/4000\n",
            "26/26 [==============================] - 0s 4ms/step - loss: 16508224798720.0000 - mean_absolute_error: 2077713.5000\n",
            "Epoch 221/4000\n",
            "26/26 [==============================] - 0s 5ms/step - loss: 16479579799552.0000 - mean_absolute_error: 2075366.7500\n",
            "Epoch 222/4000\n",
            "26/26 [==============================] - 0s 3ms/step - loss: 16448627933184.0000 - mean_absolute_error: 2072551.2500\n",
            "Epoch 223/4000\n",
            "26/26 [==============================] - 0s 5ms/step - loss: 16420774608896.0000 - mean_absolute_error: 2068147.8750\n",
            "Epoch 224/4000\n",
            "26/26 [==============================] - 0s 5ms/step - loss: 16393345957888.0000 - mean_absolute_error: 2066865.3750\n",
            "Epoch 225/4000\n",
            "26/26 [==============================] - 0s 4ms/step - loss: 16368094150656.0000 - mean_absolute_error: 2067177.6250\n",
            "Epoch 226/4000\n",
            "26/26 [==============================] - 0s 5ms/step - loss: 16335645966336.0000 - mean_absolute_error: 2065034.6250\n",
            "Epoch 227/4000\n",
            "26/26 [==============================] - 0s 4ms/step - loss: 16304225386496.0000 - mean_absolute_error: 2061291.7500\n",
            "Epoch 228/4000\n",
            "26/26 [==============================] - 0s 4ms/step - loss: 16281610747904.0000 - mean_absolute_error: 2057314.0000\n",
            "Epoch 229/4000\n",
            "26/26 [==============================] - 0s 5ms/step - loss: 16246781247488.0000 - mean_absolute_error: 2051157.7500\n",
            "Epoch 230/4000\n",
            "26/26 [==============================] - 0s 6ms/step - loss: 16221192847360.0000 - mean_absolute_error: 2047497.8750\n",
            "Epoch 231/4000\n",
            "26/26 [==============================] - 0s 4ms/step - loss: 16192901218304.0000 - mean_absolute_error: 2042961.2500\n",
            "Epoch 232/4000\n",
            "26/26 [==============================] - 0s 5ms/step - loss: 16164900044800.0000 - mean_absolute_error: 2039111.3750\n",
            "Epoch 233/4000\n",
            "26/26 [==============================] - 0s 6ms/step - loss: 16137668526080.0000 - mean_absolute_error: 2035743.2500\n",
            "Epoch 234/4000\n",
            "26/26 [==============================] - 0s 6ms/step - loss: 16115340148736.0000 - mean_absolute_error: 2032865.8750\n",
            "Epoch 235/4000\n",
            "26/26 [==============================] - 0s 5ms/step - loss: 16083469729792.0000 - mean_absolute_error: 2027946.3750\n",
            "Epoch 236/4000\n",
            "26/26 [==============================] - 0s 4ms/step - loss: 16054175662080.0000 - mean_absolute_error: 2026794.6250\n",
            "Epoch 237/4000\n",
            "26/26 [==============================] - 0s 7ms/step - loss: 16027307999232.0000 - mean_absolute_error: 2023838.1250\n",
            "Epoch 238/4000\n",
            "26/26 [==============================] - 0s 6ms/step - loss: 15999303680000.0000 - mean_absolute_error: 2019520.2500\n",
            "Epoch 239/4000\n",
            "26/26 [==============================] - 0s 6ms/step - loss: 15974036144128.0000 - mean_absolute_error: 2016638.7500\n",
            "Epoch 240/4000\n",
            "26/26 [==============================] - 0s 5ms/step - loss: 15948594544640.0000 - mean_absolute_error: 2013545.1250\n",
            "Epoch 241/4000\n",
            "26/26 [==============================] - 0s 5ms/step - loss: 15922077106176.0000 - mean_absolute_error: 2010196.7500\n",
            "Epoch 242/4000\n",
            "26/26 [==============================] - 0s 5ms/step - loss: 15893733048320.0000 - mean_absolute_error: 2007974.1250\n",
            "Epoch 243/4000\n",
            "26/26 [==============================] - 0s 7ms/step - loss: 15867673837568.0000 - mean_absolute_error: 2005176.6250\n",
            "Epoch 244/4000\n",
            "26/26 [==============================] - 0s 7ms/step - loss: 15843604824064.0000 - mean_absolute_error: 2001533.2500\n",
            "Epoch 245/4000\n",
            "26/26 [==============================] - 0s 5ms/step - loss: 15816227553280.0000 - mean_absolute_error: 2000623.6250\n",
            "Epoch 246/4000\n",
            "26/26 [==============================] - 0s 4ms/step - loss: 15788688801792.0000 - mean_absolute_error: 1997440.0000\n",
            "Epoch 247/4000\n",
            "26/26 [==============================] - 0s 5ms/step - loss: 15761744592896.0000 - mean_absolute_error: 1993672.0000\n",
            "Epoch 248/4000\n",
            "26/26 [==============================] - 0s 5ms/step - loss: 15737449086976.0000 - mean_absolute_error: 1990957.5000\n",
            "Epoch 249/4000\n",
            "26/26 [==============================] - 0s 6ms/step - loss: 15710816305152.0000 - mean_absolute_error: 1985756.0000\n",
            "Epoch 250/4000\n",
            "26/26 [==============================] - 0s 4ms/step - loss: 15692014288896.0000 - mean_absolute_error: 1984711.2500\n",
            "Epoch 251/4000\n",
            "26/26 [==============================] - 0s 5ms/step - loss: 15658814275584.0000 - mean_absolute_error: 1979941.6250\n",
            "Epoch 252/4000\n",
            "26/26 [==============================] - 0s 7ms/step - loss: 15630159839232.0000 - mean_absolute_error: 1978980.1250\n",
            "Epoch 253/4000\n",
            "26/26 [==============================] - 0s 4ms/step - loss: 15610504282112.0000 - mean_absolute_error: 1979473.0000\n",
            "Epoch 254/4000\n",
            "26/26 [==============================] - 0s 6ms/step - loss: 15585786200064.0000 - mean_absolute_error: 1976774.7500\n",
            "Epoch 255/4000\n",
            "26/26 [==============================] - 0s 5ms/step - loss: 15555349184512.0000 - mean_absolute_error: 1972295.0000\n",
            "Epoch 256/4000\n",
            "26/26 [==============================] - 0s 5ms/step - loss: 15532100157440.0000 - mean_absolute_error: 1971477.6250\n",
            "Epoch 257/4000\n",
            "26/26 [==============================] - 0s 5ms/step - loss: 15509459304448.0000 - mean_absolute_error: 1968370.3750\n",
            "Epoch 258/4000\n",
            "26/26 [==============================] - 0s 5ms/step - loss: 15486675845120.0000 - mean_absolute_error: 1965418.7500\n",
            "Epoch 259/4000\n",
            "26/26 [==============================] - 0s 7ms/step - loss: 15458361147392.0000 - mean_absolute_error: 1958869.3750\n",
            "Epoch 260/4000\n",
            "26/26 [==============================] - 0s 5ms/step - loss: 15435335467008.0000 - mean_absolute_error: 1956927.7500\n",
            "Epoch 261/4000\n",
            "26/26 [==============================] - 0s 5ms/step - loss: 15409118969856.0000 - mean_absolute_error: 1955398.8750\n",
            "Epoch 262/4000\n",
            "26/26 [==============================] - 0s 4ms/step - loss: 15390299127808.0000 - mean_absolute_error: 1953122.6250\n",
            "Epoch 263/4000\n",
            "26/26 [==============================] - 0s 6ms/step - loss: 15361545076736.0000 - mean_absolute_error: 1949135.7500\n",
            "Epoch 264/4000\n",
            "26/26 [==============================] - 0s 6ms/step - loss: 15341441777664.0000 - mean_absolute_error: 1946330.2500\n",
            "Epoch 265/4000\n",
            "26/26 [==============================] - 0s 6ms/step - loss: 15315395149824.0000 - mean_absolute_error: 1943570.7500\n",
            "Epoch 266/4000\n",
            "26/26 [==============================] - 0s 5ms/step - loss: 15290965426176.0000 - mean_absolute_error: 1939801.0000\n",
            "Epoch 267/4000\n",
            "26/26 [==============================] - 0s 4ms/step - loss: 15268184064000.0000 - mean_absolute_error: 1938142.5000\n",
            "Epoch 268/4000\n",
            "26/26 [==============================] - 0s 4ms/step - loss: 15244505120768.0000 - mean_absolute_error: 1934777.7500\n",
            "Epoch 269/4000\n",
            "26/26 [==============================] - 0s 4ms/step - loss: 15222355001344.0000 - mean_absolute_error: 1933746.6250\n",
            "Epoch 270/4000\n",
            "26/26 [==============================] - 0s 6ms/step - loss: 15198865850368.0000 - mean_absolute_error: 1931608.2500\n",
            "Epoch 271/4000\n",
            "26/26 [==============================] - 0s 11ms/step - loss: 15174841925632.0000 - mean_absolute_error: 1931478.1250\n",
            "Epoch 272/4000\n",
            "26/26 [==============================] - 0s 10ms/step - loss: 15152888938496.0000 - mean_absolute_error: 1929280.2500\n",
            "Epoch 273/4000\n",
            "26/26 [==============================] - 0s 5ms/step - loss: 15129099894784.0000 - mean_absolute_error: 1927791.8750\n",
            "Epoch 274/4000\n",
            "26/26 [==============================] - 0s 6ms/step - loss: 15110853623808.0000 - mean_absolute_error: 1923437.0000\n",
            "Epoch 275/4000\n",
            "26/26 [==============================] - 0s 5ms/step - loss: 15085578747904.0000 - mean_absolute_error: 1919340.7500\n",
            "Epoch 276/4000\n",
            "26/26 [==============================] - 0s 11ms/step - loss: 15063232544768.0000 - mean_absolute_error: 1916118.6250\n",
            "Epoch 277/4000\n",
            "26/26 [==============================] - 0s 6ms/step - loss: 15045877563392.0000 - mean_absolute_error: 1915529.8750\n",
            "Epoch 278/4000\n",
            "26/26 [==============================] - 0s 5ms/step - loss: 15019951521792.0000 - mean_absolute_error: 1911426.2500\n",
            "Epoch 279/4000\n",
            "26/26 [==============================] - 0s 4ms/step - loss: 15002652114944.0000 - mean_absolute_error: 1908493.3750\n",
            "Epoch 280/4000\n",
            "26/26 [==============================] - 0s 4ms/step - loss: 14977847001088.0000 - mean_absolute_error: 1905373.7500\n",
            "Epoch 281/4000\n",
            "26/26 [==============================] - 0s 4ms/step - loss: 14959464415232.0000 - mean_absolute_error: 1905078.2500\n",
            "Epoch 282/4000\n",
            "26/26 [==============================] - 0s 3ms/step - loss: 14934020718592.0000 - mean_absolute_error: 1903035.0000\n",
            "Epoch 283/4000\n",
            "26/26 [==============================] - 0s 5ms/step - loss: 14911994331136.0000 - mean_absolute_error: 1901257.2500\n",
            "Epoch 284/4000\n",
            "26/26 [==============================] - 0s 5ms/step - loss: 14893041319936.0000 - mean_absolute_error: 1896110.5000\n",
            "Epoch 285/4000\n",
            "26/26 [==============================] - 0s 4ms/step - loss: 14869944336384.0000 - mean_absolute_error: 1893386.6250\n",
            "Epoch 286/4000\n",
            "26/26 [==============================] - 0s 4ms/step - loss: 14851246129152.0000 - mean_absolute_error: 1890397.1250\n",
            "Epoch 287/4000\n",
            "26/26 [==============================] - 0s 3ms/step - loss: 14831382953984.0000 - mean_absolute_error: 1889331.2500\n",
            "Epoch 288/4000\n",
            "26/26 [==============================] - 0s 5ms/step - loss: 14809971032064.0000 - mean_absolute_error: 1887658.3750\n",
            "Epoch 289/4000\n",
            "26/26 [==============================] - 0s 4ms/step - loss: 14787418259456.0000 - mean_absolute_error: 1884961.0000\n",
            "Epoch 290/4000\n",
            "26/26 [==============================] - 0s 4ms/step - loss: 14766930132992.0000 - mean_absolute_error: 1884568.3750\n",
            "Epoch 291/4000\n",
            "26/26 [==============================] - 0s 5ms/step - loss: 14747725463552.0000 - mean_absolute_error: 1880798.7500\n",
            "Epoch 292/4000\n",
            "26/26 [==============================] - 0s 7ms/step - loss: 14729008381952.0000 - mean_absolute_error: 1878484.3750\n",
            "Epoch 293/4000\n",
            "26/26 [==============================] - 0s 4ms/step - loss: 14707010306048.0000 - mean_absolute_error: 1874324.2500\n",
            "Epoch 294/4000\n",
            "26/26 [==============================] - 0s 6ms/step - loss: 14684240478208.0000 - mean_absolute_error: 1870429.3750\n",
            "Epoch 295/4000\n",
            "26/26 [==============================] - 0s 4ms/step - loss: 14665300049920.0000 - mean_absolute_error: 1869436.6250\n",
            "Epoch 296/4000\n",
            "26/26 [==============================] - 0s 4ms/step - loss: 14643486523392.0000 - mean_absolute_error: 1867728.8750\n",
            "Epoch 297/4000\n",
            "26/26 [==============================] - 0s 4ms/step - loss: 14627398221824.0000 - mean_absolute_error: 1866970.8750\n",
            "Epoch 298/4000\n",
            "26/26 [==============================] - 0s 5ms/step - loss: 14603374297088.0000 - mean_absolute_error: 1864977.5000\n",
            "Epoch 299/4000\n",
            "26/26 [==============================] - 0s 6ms/step - loss: 14594327183360.0000 - mean_absolute_error: 1872613.2500\n",
            "Epoch 300/4000\n",
            "26/26 [==============================] - 0s 6ms/step - loss: 14565860442112.0000 - mean_absolute_error: 1868839.6250\n",
            "Epoch 301/4000\n",
            "26/26 [==============================] - 0s 4ms/step - loss: 14545944838144.0000 - mean_absolute_error: 1866080.3750\n",
            "Epoch 302/4000\n",
            "26/26 [==============================] - 0s 4ms/step - loss: 14535538769920.0000 - mean_absolute_error: 1862867.0000\n",
            "Epoch 303/4000\n",
            "26/26 [==============================] - 0s 5ms/step - loss: 14505775988736.0000 - mean_absolute_error: 1862929.6250\n",
            "Epoch 304/4000\n",
            " 7/26 [=======>......................] - ETA: 0s - loss: 13058687631360.0000 - mean_absolute_error: 1819897.3750"
          ]
        },
        {
          "output_type": "error",
          "ename": "KeyboardInterrupt",
          "evalue": "ignored",
          "traceback": [
            "\u001b[0;31m---------------------------------------------------------------------------\u001b[0m",
            "\u001b[0;31mKeyboardInterrupt\u001b[0m                         Traceback (most recent call last)",
            "\u001b[0;32m<ipython-input-29-9b59554a25bd>\u001b[0m in \u001b[0;36m<module>\u001b[0;34m()\u001b[0m\n\u001b[0;32m----> 1\u001b[0;31m \u001b[0mfitting_amfe\u001b[0m \u001b[0;34m=\u001b[0m \u001b[0mann_model_for_evaluation\u001b[0m\u001b[0;34m.\u001b[0m\u001b[0mfit\u001b[0m\u001b[0;34m(\u001b[0m\u001b[0mbest_epochs\u001b[0m\u001b[0;34m)\u001b[0m\u001b[0;34m\u001b[0m\u001b[0;34m\u001b[0m\u001b[0m\n\u001b[0m",
            "\u001b[0;32m<ipython-input-22-2cfd9423ef2b>\u001b[0m in \u001b[0;36mfit\u001b[0;34m(self, epochs)\u001b[0m\n\u001b[1;32m     21\u001b[0m         \u001b[0;32mreturn\u001b[0m \u001b[0mself\u001b[0m\u001b[0;34m.\u001b[0m\u001b[0mannDesign\u001b[0m\u001b[0;34m.\u001b[0m\u001b[0msummary\u001b[0m\u001b[0;34m(\u001b[0m\u001b[0;34m)\u001b[0m\u001b[0;34m\u001b[0m\u001b[0;34m\u001b[0m\u001b[0m\n\u001b[1;32m     22\u001b[0m     \u001b[0;32mdef\u001b[0m \u001b[0mfit\u001b[0m\u001b[0;34m(\u001b[0m\u001b[0mself\u001b[0m\u001b[0;34m,\u001b[0m \u001b[0mepochs\u001b[0m \u001b[0;34m=\u001b[0m \u001b[0;36m500\u001b[0m\u001b[0;34m)\u001b[0m\u001b[0;34m:\u001b[0m\u001b[0;34m\u001b[0m\u001b[0;34m\u001b[0m\u001b[0m\n\u001b[0;32m---> 23\u001b[0;31m         \u001b[0mfitting\u001b[0m \u001b[0;34m=\u001b[0m \u001b[0mself\u001b[0m\u001b[0;34m.\u001b[0m\u001b[0mannDesign\u001b[0m\u001b[0;34m.\u001b[0m\u001b[0mfit\u001b[0m\u001b[0;34m(\u001b[0m\u001b[0mself\u001b[0m\u001b[0;34m.\u001b[0m\u001b[0mX_data\u001b[0m\u001b[0;34m,\u001b[0m \u001b[0mself\u001b[0m\u001b[0;34m.\u001b[0m\u001b[0mY_data\u001b[0m\u001b[0;34m,\u001b[0m \u001b[0mepochs\u001b[0m \u001b[0;34m=\u001b[0m \u001b[0mepochs\u001b[0m\u001b[0;34m)\u001b[0m\u001b[0;34m\u001b[0m\u001b[0;34m\u001b[0m\u001b[0m\n\u001b[0m\u001b[1;32m     24\u001b[0m         \u001b[0mself\u001b[0m\u001b[0;34m.\u001b[0m\u001b[0mtraining\u001b[0m \u001b[0;34m=\u001b[0m \u001b[0;32mTrue\u001b[0m\u001b[0;34m\u001b[0m\u001b[0;34m\u001b[0m\u001b[0m\n\u001b[1;32m     25\u001b[0m         \u001b[0;32mreturn\u001b[0m \u001b[0mfitting\u001b[0m\u001b[0;34m\u001b[0m\u001b[0;34m\u001b[0m\u001b[0m\n",
            "\u001b[0;32m/usr/local/lib/python3.7/dist-packages/keras/utils/traceback_utils.py\u001b[0m in \u001b[0;36merror_handler\u001b[0;34m(*args, **kwargs)\u001b[0m\n\u001b[1;32m     62\u001b[0m     \u001b[0mfiltered_tb\u001b[0m \u001b[0;34m=\u001b[0m \u001b[0;32mNone\u001b[0m\u001b[0;34m\u001b[0m\u001b[0;34m\u001b[0m\u001b[0m\n\u001b[1;32m     63\u001b[0m     \u001b[0;32mtry\u001b[0m\u001b[0;34m:\u001b[0m\u001b[0;34m\u001b[0m\u001b[0;34m\u001b[0m\u001b[0m\n\u001b[0;32m---> 64\u001b[0;31m       \u001b[0;32mreturn\u001b[0m \u001b[0mfn\u001b[0m\u001b[0;34m(\u001b[0m\u001b[0;34m*\u001b[0m\u001b[0margs\u001b[0m\u001b[0;34m,\u001b[0m \u001b[0;34m**\u001b[0m\u001b[0mkwargs\u001b[0m\u001b[0;34m)\u001b[0m\u001b[0;34m\u001b[0m\u001b[0;34m\u001b[0m\u001b[0m\n\u001b[0m\u001b[1;32m     65\u001b[0m     \u001b[0;32mexcept\u001b[0m \u001b[0mException\u001b[0m \u001b[0;32mas\u001b[0m \u001b[0me\u001b[0m\u001b[0;34m:\u001b[0m  \u001b[0;31m# pylint: disable=broad-except\u001b[0m\u001b[0;34m\u001b[0m\u001b[0;34m\u001b[0m\u001b[0m\n\u001b[1;32m     66\u001b[0m       \u001b[0mfiltered_tb\u001b[0m \u001b[0;34m=\u001b[0m \u001b[0m_process_traceback_frames\u001b[0m\u001b[0;34m(\u001b[0m\u001b[0me\u001b[0m\u001b[0;34m.\u001b[0m\u001b[0m__traceback__\u001b[0m\u001b[0;34m)\u001b[0m\u001b[0;34m\u001b[0m\u001b[0;34m\u001b[0m\u001b[0m\n",
            "\u001b[0;32m/usr/local/lib/python3.7/dist-packages/keras/engine/training.py\u001b[0m in \u001b[0;36mfit\u001b[0;34m(self, x, y, batch_size, epochs, verbose, callbacks, validation_split, validation_data, shuffle, class_weight, sample_weight, initial_epoch, steps_per_epoch, validation_steps, validation_batch_size, validation_freq, max_queue_size, workers, use_multiprocessing)\u001b[0m\n\u001b[1;32m   1382\u001b[0m                 _r=1):\n\u001b[1;32m   1383\u001b[0m               \u001b[0mcallbacks\u001b[0m\u001b[0;34m.\u001b[0m\u001b[0mon_train_batch_begin\u001b[0m\u001b[0;34m(\u001b[0m\u001b[0mstep\u001b[0m\u001b[0;34m)\u001b[0m\u001b[0;34m\u001b[0m\u001b[0;34m\u001b[0m\u001b[0m\n\u001b[0;32m-> 1384\u001b[0;31m               \u001b[0mtmp_logs\u001b[0m \u001b[0;34m=\u001b[0m \u001b[0mself\u001b[0m\u001b[0;34m.\u001b[0m\u001b[0mtrain_function\u001b[0m\u001b[0;34m(\u001b[0m\u001b[0miterator\u001b[0m\u001b[0;34m)\u001b[0m\u001b[0;34m\u001b[0m\u001b[0;34m\u001b[0m\u001b[0m\n\u001b[0m\u001b[1;32m   1385\u001b[0m               \u001b[0;32mif\u001b[0m \u001b[0mdata_handler\u001b[0m\u001b[0;34m.\u001b[0m\u001b[0mshould_sync\u001b[0m\u001b[0;34m:\u001b[0m\u001b[0;34m\u001b[0m\u001b[0;34m\u001b[0m\u001b[0m\n\u001b[1;32m   1386\u001b[0m                 \u001b[0mcontext\u001b[0m\u001b[0;34m.\u001b[0m\u001b[0masync_wait\u001b[0m\u001b[0;34m(\u001b[0m\u001b[0;34m)\u001b[0m\u001b[0;34m\u001b[0m\u001b[0;34m\u001b[0m\u001b[0m\n",
            "\u001b[0;32m/usr/local/lib/python3.7/dist-packages/tensorflow/python/util/traceback_utils.py\u001b[0m in \u001b[0;36merror_handler\u001b[0;34m(*args, **kwargs)\u001b[0m\n\u001b[1;32m    148\u001b[0m     \u001b[0mfiltered_tb\u001b[0m \u001b[0;34m=\u001b[0m \u001b[0;32mNone\u001b[0m\u001b[0;34m\u001b[0m\u001b[0;34m\u001b[0m\u001b[0m\n\u001b[1;32m    149\u001b[0m     \u001b[0;32mtry\u001b[0m\u001b[0;34m:\u001b[0m\u001b[0;34m\u001b[0m\u001b[0;34m\u001b[0m\u001b[0m\n\u001b[0;32m--> 150\u001b[0;31m       \u001b[0;32mreturn\u001b[0m \u001b[0mfn\u001b[0m\u001b[0;34m(\u001b[0m\u001b[0;34m*\u001b[0m\u001b[0margs\u001b[0m\u001b[0;34m,\u001b[0m \u001b[0;34m**\u001b[0m\u001b[0mkwargs\u001b[0m\u001b[0;34m)\u001b[0m\u001b[0;34m\u001b[0m\u001b[0;34m\u001b[0m\u001b[0m\n\u001b[0m\u001b[1;32m    151\u001b[0m     \u001b[0;32mexcept\u001b[0m \u001b[0mException\u001b[0m \u001b[0;32mas\u001b[0m \u001b[0me\u001b[0m\u001b[0;34m:\u001b[0m\u001b[0;34m\u001b[0m\u001b[0;34m\u001b[0m\u001b[0m\n\u001b[1;32m    152\u001b[0m       \u001b[0mfiltered_tb\u001b[0m \u001b[0;34m=\u001b[0m \u001b[0m_process_traceback_frames\u001b[0m\u001b[0;34m(\u001b[0m\u001b[0me\u001b[0m\u001b[0;34m.\u001b[0m\u001b[0m__traceback__\u001b[0m\u001b[0;34m)\u001b[0m\u001b[0;34m\u001b[0m\u001b[0;34m\u001b[0m\u001b[0m\n",
            "\u001b[0;32m/usr/local/lib/python3.7/dist-packages/tensorflow/python/eager/def_function.py\u001b[0m in \u001b[0;36m__call__\u001b[0;34m(self, *args, **kwds)\u001b[0m\n\u001b[1;32m    913\u001b[0m \u001b[0;34m\u001b[0m\u001b[0m\n\u001b[1;32m    914\u001b[0m       \u001b[0;32mwith\u001b[0m \u001b[0mOptionalXlaContext\u001b[0m\u001b[0;34m(\u001b[0m\u001b[0mself\u001b[0m\u001b[0;34m.\u001b[0m\u001b[0m_jit_compile\u001b[0m\u001b[0;34m)\u001b[0m\u001b[0;34m:\u001b[0m\u001b[0;34m\u001b[0m\u001b[0;34m\u001b[0m\u001b[0m\n\u001b[0;32m--> 915\u001b[0;31m         \u001b[0mresult\u001b[0m \u001b[0;34m=\u001b[0m \u001b[0mself\u001b[0m\u001b[0;34m.\u001b[0m\u001b[0m_call\u001b[0m\u001b[0;34m(\u001b[0m\u001b[0;34m*\u001b[0m\u001b[0margs\u001b[0m\u001b[0;34m,\u001b[0m \u001b[0;34m**\u001b[0m\u001b[0mkwds\u001b[0m\u001b[0;34m)\u001b[0m\u001b[0;34m\u001b[0m\u001b[0;34m\u001b[0m\u001b[0m\n\u001b[0m\u001b[1;32m    916\u001b[0m \u001b[0;34m\u001b[0m\u001b[0m\n\u001b[1;32m    917\u001b[0m       \u001b[0mnew_tracing_count\u001b[0m \u001b[0;34m=\u001b[0m \u001b[0mself\u001b[0m\u001b[0;34m.\u001b[0m\u001b[0mexperimental_get_tracing_count\u001b[0m\u001b[0;34m(\u001b[0m\u001b[0;34m)\u001b[0m\u001b[0;34m\u001b[0m\u001b[0;34m\u001b[0m\u001b[0m\n",
            "\u001b[0;32m/usr/local/lib/python3.7/dist-packages/tensorflow/python/eager/def_function.py\u001b[0m in \u001b[0;36m_call\u001b[0;34m(self, *args, **kwds)\u001b[0m\n\u001b[1;32m    945\u001b[0m       \u001b[0;31m# In this case we have created variables on the first call, so we run the\u001b[0m\u001b[0;34m\u001b[0m\u001b[0;34m\u001b[0m\u001b[0;34m\u001b[0m\u001b[0m\n\u001b[1;32m    946\u001b[0m       \u001b[0;31m# defunned version which is guaranteed to never create variables.\u001b[0m\u001b[0;34m\u001b[0m\u001b[0;34m\u001b[0m\u001b[0;34m\u001b[0m\u001b[0m\n\u001b[0;32m--> 947\u001b[0;31m       \u001b[0;32mreturn\u001b[0m \u001b[0mself\u001b[0m\u001b[0;34m.\u001b[0m\u001b[0m_stateless_fn\u001b[0m\u001b[0;34m(\u001b[0m\u001b[0;34m*\u001b[0m\u001b[0margs\u001b[0m\u001b[0;34m,\u001b[0m \u001b[0;34m**\u001b[0m\u001b[0mkwds\u001b[0m\u001b[0;34m)\u001b[0m  \u001b[0;31m# pylint: disable=not-callable\u001b[0m\u001b[0;34m\u001b[0m\u001b[0;34m\u001b[0m\u001b[0m\n\u001b[0m\u001b[1;32m    948\u001b[0m     \u001b[0;32melif\u001b[0m \u001b[0mself\u001b[0m\u001b[0;34m.\u001b[0m\u001b[0m_stateful_fn\u001b[0m \u001b[0;32mis\u001b[0m \u001b[0;32mnot\u001b[0m \u001b[0;32mNone\u001b[0m\u001b[0;34m:\u001b[0m\u001b[0;34m\u001b[0m\u001b[0;34m\u001b[0m\u001b[0m\n\u001b[1;32m    949\u001b[0m       \u001b[0;31m# Release the lock early so that multiple threads can perform the call\u001b[0m\u001b[0;34m\u001b[0m\u001b[0;34m\u001b[0m\u001b[0;34m\u001b[0m\u001b[0m\n",
            "\u001b[0;32m/usr/local/lib/python3.7/dist-packages/tensorflow/python/eager/function.py\u001b[0m in \u001b[0;36m__call__\u001b[0;34m(self, *args, **kwargs)\u001b[0m\n\u001b[1;32m   2955\u001b[0m        filtered_flat_args) = self._maybe_define_function(args, kwargs)\n\u001b[1;32m   2956\u001b[0m     return graph_function._call_flat(\n\u001b[0;32m-> 2957\u001b[0;31m         filtered_flat_args, captured_inputs=graph_function.captured_inputs)  # pylint: disable=protected-access\n\u001b[0m\u001b[1;32m   2958\u001b[0m \u001b[0;34m\u001b[0m\u001b[0m\n\u001b[1;32m   2959\u001b[0m   \u001b[0;34m@\u001b[0m\u001b[0mproperty\u001b[0m\u001b[0;34m\u001b[0m\u001b[0;34m\u001b[0m\u001b[0m\n",
            "\u001b[0;32m/usr/local/lib/python3.7/dist-packages/tensorflow/python/eager/function.py\u001b[0m in \u001b[0;36m_call_flat\u001b[0;34m(self, args, captured_inputs, cancellation_manager)\u001b[0m\n\u001b[1;32m   1852\u001b[0m       \u001b[0;31m# No tape is watching; skip to running the function.\u001b[0m\u001b[0;34m\u001b[0m\u001b[0;34m\u001b[0m\u001b[0;34m\u001b[0m\u001b[0m\n\u001b[1;32m   1853\u001b[0m       return self._build_call_outputs(self._inference_function.call(\n\u001b[0;32m-> 1854\u001b[0;31m           ctx, args, cancellation_manager=cancellation_manager))\n\u001b[0m\u001b[1;32m   1855\u001b[0m     forward_backward = self._select_forward_and_backward_functions(\n\u001b[1;32m   1856\u001b[0m         \u001b[0margs\u001b[0m\u001b[0;34m,\u001b[0m\u001b[0;34m\u001b[0m\u001b[0;34m\u001b[0m\u001b[0m\n",
            "\u001b[0;32m/usr/local/lib/python3.7/dist-packages/tensorflow/python/eager/function.py\u001b[0m in \u001b[0;36mcall\u001b[0;34m(self, ctx, args, cancellation_manager)\u001b[0m\n\u001b[1;32m    502\u001b[0m               \u001b[0minputs\u001b[0m\u001b[0;34m=\u001b[0m\u001b[0margs\u001b[0m\u001b[0;34m,\u001b[0m\u001b[0;34m\u001b[0m\u001b[0;34m\u001b[0m\u001b[0m\n\u001b[1;32m    503\u001b[0m               \u001b[0mattrs\u001b[0m\u001b[0;34m=\u001b[0m\u001b[0mattrs\u001b[0m\u001b[0;34m,\u001b[0m\u001b[0;34m\u001b[0m\u001b[0;34m\u001b[0m\u001b[0m\n\u001b[0;32m--> 504\u001b[0;31m               ctx=ctx)\n\u001b[0m\u001b[1;32m    505\u001b[0m         \u001b[0;32melse\u001b[0m\u001b[0;34m:\u001b[0m\u001b[0;34m\u001b[0m\u001b[0;34m\u001b[0m\u001b[0m\n\u001b[1;32m    506\u001b[0m           outputs = execute.execute_with_cancellation(\n",
            "\u001b[0;32m/usr/local/lib/python3.7/dist-packages/tensorflow/python/eager/execute.py\u001b[0m in \u001b[0;36mquick_execute\u001b[0;34m(op_name, num_outputs, inputs, attrs, ctx, name)\u001b[0m\n\u001b[1;32m     53\u001b[0m     \u001b[0mctx\u001b[0m\u001b[0;34m.\u001b[0m\u001b[0mensure_initialized\u001b[0m\u001b[0;34m(\u001b[0m\u001b[0;34m)\u001b[0m\u001b[0;34m\u001b[0m\u001b[0;34m\u001b[0m\u001b[0m\n\u001b[1;32m     54\u001b[0m     tensors = pywrap_tfe.TFE_Py_Execute(ctx._handle, device_name, op_name,\n\u001b[0;32m---> 55\u001b[0;31m                                         inputs, attrs, num_outputs)\n\u001b[0m\u001b[1;32m     56\u001b[0m   \u001b[0;32mexcept\u001b[0m \u001b[0mcore\u001b[0m\u001b[0;34m.\u001b[0m\u001b[0m_NotOkStatusException\u001b[0m \u001b[0;32mas\u001b[0m \u001b[0me\u001b[0m\u001b[0;34m:\u001b[0m\u001b[0;34m\u001b[0m\u001b[0;34m\u001b[0m\u001b[0m\n\u001b[1;32m     57\u001b[0m     \u001b[0;32mif\u001b[0m \u001b[0mname\u001b[0m \u001b[0;32mis\u001b[0m \u001b[0;32mnot\u001b[0m \u001b[0;32mNone\u001b[0m\u001b[0;34m:\u001b[0m\u001b[0;34m\u001b[0m\u001b[0;34m\u001b[0m\u001b[0m\n",
            "\u001b[0;31mKeyboardInterrupt\u001b[0m: "
          ]
        }
      ]
    },
    {
      "cell_type": "code",
      "source": [
        "figure(num=None, figsize=(14, 8), dpi=80, facecolor='w', edgecolor='k')\n",
        "ax = plt.axes()\n",
        "ax.tick_params(axis='both', which='major', labelsize=16)\n",
        "ax.yaxis.offsetText.set_fontsize(16)\n",
        "# plt.title('Convergence Rate')\n",
        "plt.plot(fitting_amfe.history['loss'], linewidth = 3)\n",
        "plt.xticks(weight='bold')\n",
        "plt.yticks(weight='bold')\n",
        "plt.show()"
      ],
      "metadata": {
        "id": "YRYKvelNPIfy"
      },
      "execution_count": null,
      "outputs": []
    },
    {
      "cell_type": "code",
      "source": [
        "min(fitting_amfe.history['loss'])"
      ],
      "metadata": {
        "id": "-n50FdtIRUbK"
      },
      "execution_count": null,
      "outputs": []
    },
    {
      "cell_type": "code",
      "source": [
        "customizeAnn = ann_model_for_evaluation.customize() \n",
        "print('Input Layer weights: \\n', customizeAnn.layers[0].get_weights()[0])\n",
        "print('\\n Hidden Layer 1 biases: \\n', customizeAnn.layers[0].get_weights()[1])\n",
        "print('\\n Hidden Layer 1 weights: \\n', customizeAnn.layers[1].get_weights()[0])\n",
        "print('\\n output Layer biases: \\n', customizeAnn.layers[1].get_weights()[1])"
      ],
      "metadata": {
        "id": "Iy2LwiVkRZrU"
      },
      "execution_count": null,
      "outputs": []
    },
    {
      "cell_type": "code",
      "source": [
        "ann_evaluation_model_prediction_on_training = ann_model_for_evaluation.predict(input_train_tf)\n",
        "ann_evaluation_model_prediction_on_test = ann_model_for_evaluation.predict(input_test_tf)\n"
      ],
      "metadata": {
        "id": "75O5JkVNRctW"
      },
      "execution_count": null,
      "outputs": []
    },
    {
      "cell_type": "code",
      "source": [
        "ann_model_for_evaluation_customize = ann_model_for_evaluation.customize()\n",
        "print(ann_model_for_evaluation_customize.evaluate(input_train_tf, output_train_tf))\n",
        "print(ann_model_for_evaluation_customize.evaluate(input_test_tf, output_test_tf))"
      ],
      "metadata": {
        "id": "MJZIxcNzRh2-"
      },
      "execution_count": null,
      "outputs": []
    },
    {
      "cell_type": "code",
      "source": [
        "np.max(ann_evaluation_model_prediction_on_test)\n",
        "y_ticks = np.arange(np.min(ann_evaluation_model_prediction_on_test),\n",
        "                    np.max(ann_evaluation_model_prediction_on_test), 1e3)\n",
        "y_ticks = np.concatenate((y_ticks, np.arange(max(y_ticks), max(y_ticks) + 5e4, 1e3)))\n",
        "y_ticks.shape"
      ],
      "metadata": {
        "id": "HsBsjPugRkXq"
      },
      "execution_count": null,
      "outputs": []
    },
    {
      "cell_type": "code",
      "source": [
        "figure(num=None, figsize=(24, 8), dpi=80, facecolor='w', edgecolor='k')\n",
        "ax = plt.axes()\n",
        "ax.xaxis.set_major_locator(plticker.MultipleLocator(base=3)) # Skip x-axis ticks by ratio mentioned by base (float value)\n",
        "ax.tick_params(axis='both', which='major', labelsize=16)\n",
        "# plt.title(\"Fitting ANN Model on Training Data\")\n",
        "plt.plot(dates_train, output_train_tf[:,0], 'b', output_train_tf[:,1], 'r', output_train_tf[:,2], 'g', linewidth = 2.5)\n",
        "plt.plot(dates_train, \n",
        "         ann_evaluation_model_prediction_on_training[:,0], '*b', \n",
        "         ann_evaluation_model_prediction_on_training[:,1], '*r', \n",
        "         ann_evaluation_model_prediction_on_training[:,2], '*g')\n",
        "plt.legend(['Actual Confirmed Cases', 'Actual Deaths','Actual Recovories', 'Predicted Confirmed Cases', \n",
        "            'Predicted Deaths','Predicted Recovories'], prop = {'size': 16})\n",
        "plt.xticks(rotation=80, weight='bold');\n",
        "plt.yticks(weight='bold')\n",
        "plt.show()\n",
        "\n"
      ],
      "metadata": {
        "id": "yrBOslQRRuRS"
      },
      "execution_count": null,
      "outputs": []
    },
    {
      "cell_type": "code",
      "source": [
        "figure(num=None, figsize=(14, 8), dpi=80, facecolor='w', edgecolor='k')\n",
        "ax = plt.axes()\n",
        "ax.xaxis.set_major_locator(plticker.MultipleLocator(base=3)) # Skip x-axis ticks by ratio mentioned by base (float value)\n",
        "ax.tick_params(axis='both', which='major', labelsize=16)\n",
        "# plt.title(\"Error Graph between Predicted and Actual Values\")\n",
        "plt.bar(dates_train,(ann_evaluation_model_prediction_on_training[:,0].reshape(-1,) - output_train_tf[:,0]), color = 'b')\n",
        "plt.bar(dates_train,(ann_evaluation_model_prediction_on_training[:,1].reshape(-1,) - output_train_tf[:,1]), color = 'r')\n",
        "plt.bar(dates_train,(ann_evaluation_model_prediction_on_training[:,2].reshape(-1,) - output_train_tf[:,2]), color = 'g')\n",
        "plt.legend(['Error for Confirmed Cases', 'Error for Deaths','Error for Recovories'], prop = {'size': 16})\n",
        "plt.xticks(rotation=80, weight='bold');\n",
        "plt.yticks(weight='bold')\n",
        "plt.show()\n",
        "\n"
      ],
      "metadata": {
        "id": "D6lu_lyWSMX9"
      },
      "execution_count": null,
      "outputs": []
    },
    {
      "cell_type": "code",
      "source": [
        "figure(num=None, figsize=(14, 8), dpi=80, facecolor='w', edgecolor='k')\n",
        "ax = plt.axes()\n",
        "ax.xaxis.set_major_locator(plticker.MultipleLocator(base=1.0)) # Skip x-axis ticks by ratio mentioned by base (float value)\n",
        "ax.tick_params(axis='both', which='major', labelsize=16)\n",
        "# plt.title(\"Evaluating ANN Model on Test Data\")\n",
        "plt.plot(dates_test, output_test_tf[:,0], 'b', output_test_tf[:,1], 'r', output_test_tf[:,2], 'g', linewidth = 2.5)\n",
        "plt.plot(dates_test, \n",
        "         ann_evaluation_model_prediction_on_test[:,0], '*b', \n",
        "         ann_evaluation_model_prediction_on_test[:,1], '*r', \n",
        "         ann_evaluation_model_prediction_on_test[:,2], '*g')\n",
        "plt.legend(['Actual Confirmed Cases', 'Actual Deaths','Actual Recovories', 'Predicted Confirmed Cases', \n",
        "            'Predicted Deaths','Predicted Recovories'], prop = {'size': 16}, loc='upper left', ncol=2)\n",
        "plt.xticks(rotation=80, weight='bold');\n",
        "# y_ticks = np.arange(np.min(ann_evaluation_model_prediction_on_test),\n",
        "#                     np.max(ann_evaluation_model_prediction_on_test), 1e4)\n",
        "# y_ticks = np.concatenate((y_ticks, np.arange(max(y_ticks), max(y_ticks) + 5e4, 1e4)))\n",
        "plt.yticks(np.arange(0,4e5, 5e4), weight='bold',)\n",
        "plt.show()\n",
        "\n"
      ],
      "metadata": {
        "id": "DYX6ovQvYEwc"
      },
      "execution_count": null,
      "outputs": []
    },
    {
      "cell_type": "code",
      "source": [
        "figure(num=None, figsize=(14, 8), dpi=80, facecolor='w', edgecolor='k')\n",
        "ax = plt.axes()\n",
        "ax.xaxis.set_major_locator(plticker.MultipleLocator(base=1.0)) # Skip x-axis ticks by ratio mentioned by base (float value)\n",
        "ax.tick_params(axis='both', which='major', labelsize=16)\n",
        "# plt.title(\"Error Graph between Predicted and Actual Values\")\n",
        "plt.bar(dates_test,(ann_evaluation_model_prediction_on_test[:,0].reshape(-1,) - output_test_tf[:,0]), color = 'b')\n",
        "plt.bar(dates_test,(ann_evaluation_model_prediction_on_test[:,1].reshape(-1,) - output_test_tf[:,1]), color = 'r')\n",
        "plt.bar(dates_test,(ann_evaluation_model_prediction_on_test[:,2].reshape(-1,) - output_test_tf[:,2]), color = 'g')\n",
        "plt.legend(['Error for Confirmed Cases', 'Error for Deaths','Error for Recovories'], prop = {'size': 16})\n",
        "plt.xticks(rotation=80, weight='bold');\n",
        "plt.yticks(weight='bold')\n",
        "plt.show()"
      ],
      "metadata": {
        "id": "jUGtCdRyYJ5e"
      },
      "execution_count": null,
      "outputs": []
    },
    {
      "cell_type": "code",
      "source": [
        "output_data_tf = tf.convert_to_tensor(np.array(conf_death_recov), dtype=tf.float32)\n",
        "input_data_tf = tf.convert_to_tensor(np.array(input_data_scaled), dtype=tf.float32)\n",
        "ann_model_for_future = annModel(input_data_tf, output_data_tf)\n",
        "ann_model_for_future.summary()"
      ],
      "metadata": {
        "id": "hlAE-sWFYLsV"
      },
      "execution_count": null,
      "outputs": []
    },
    {
      "cell_type": "code",
      "source": [
        "fitting_amff = ann_model_for_future.fit(best_epochs)\n"
      ],
      "metadata": {
        "id": "4Te7MvZjYnOK"
      },
      "execution_count": null,
      "outputs": []
    },
    {
      "cell_type": "code",
      "source": [
        "plt.title('Convergence Rate')\n",
        "plt.plot(fitting_amff.history['loss'])\n",
        "plt.show()"
      ],
      "metadata": {
        "id": "dMHpBzmsYpPk"
      },
      "execution_count": null,
      "outputs": []
    },
    {
      "cell_type": "code",
      "source": [
        "ann_future_model_prediction_on_training = ann_model_for_future.predict(input_data_tf)\n"
      ],
      "metadata": {
        "id": "EkrQxV_Ja6-t"
      },
      "execution_count": null,
      "outputs": []
    },
    {
      "cell_type": "code",
      "source": [
        "\n",
        "future_data, scaled_future_data, future_dates = generate_future_data(input_data[:,1], 7)\n",
        "all_cases_future = ann_model_for_future.predict(scaled_future_data)"
      ],
      "metadata": {
        "id": "kxpmmz8da9em"
      },
      "execution_count": null,
      "outputs": []
    },
    {
      "cell_type": "code",
      "source": [
        "ann_model_for_future_customize = ann_model_for_future.customize()\n",
        "ann_model_for_future_customize.evaluate(input_data_tf, output_data_tf)\n"
      ],
      "metadata": {
        "id": "MUzj68A0bBDP"
      },
      "execution_count": null,
      "outputs": []
    },
    {
      "cell_type": "code",
      "source": [
        "pd.DataFrame(all_cases_future, index = future_dates, columns = ['Confirmed', 'Deaths', 'Recoveries'])\n"
      ],
      "metadata": {
        "id": "vi8HqtkubDiu"
      },
      "execution_count": null,
      "outputs": []
    },
    {
      "cell_type": "code",
      "source": [
        "figure(num=None, figsize=(14, 8), dpi=80, facecolor='w', edgecolor='k')\n",
        "ax = plt.axes()\n",
        "ax.xaxis.set_major_locator(plticker.MultipleLocator(base=3.0)) # Skip x-axis ticks by ratio mentioned by base (float value)\n",
        "ax.tick_params(axis='both', which='major', labelsize=16)\n",
        "# plt.title(\"Fitting ANN Model on Training Data\")\n",
        "plt.plot(dates, output_data_tf[:,0], 'b', output_data_tf[:,1], 'r', output_data_tf[:,2], 'g', linewidth = 2.5)\n",
        "plt.plot(dates, \n",
        "         ann_future_model_prediction_on_training[:,0], '*b', \n",
        "         ann_future_model_prediction_on_training[:,1], '*r', \n",
        "         ann_future_model_prediction_on_training[:,2], '*g')\n",
        "plt.legend(['Actual Confirmed Cases', 'Actual Deaths','Actual Recovories', 'Predicted Confirmed Cases', \n",
        "            'Predicted Deaths','Predicted Recovories'], fontsize=16)\n",
        "plt.xticks(rotation=80, weight='bold');\n",
        "plt.yticks(weight='bold')\n",
        "plt.show()"
      ],
      "metadata": {
        "id": "r-CvcP7MbJNM"
      },
      "execution_count": null,
      "outputs": []
    },
    {
      "cell_type": "code",
      "source": [
        "figure(num=None, figsize=(14, 8), dpi=80, facecolor='w', edgecolor='k')\n",
        "ax = plt.axes()\n",
        "ax.xaxis.set_major_locator(plticker.MultipleLocator(base=3.0)) # Skip x-axis ticks by ratio mentioned by base (float value)\n",
        "ax.tick_params(axis='both', which='major', labelsize=16)\n",
        "# plt.title(\"Error Graph between Predicted and Actual Values\")\n",
        "plt.bar(dates,(ann_future_model_prediction_on_training[:,0].reshape(-1,) - output_data_tf[:,0]), color = 'b')\n",
        "plt.bar(dates,(ann_future_model_prediction_on_training[:,1].reshape(-1,) - output_data_tf[:,1]), color = 'r')\n",
        "plt.bar(dates,(ann_future_model_prediction_on_training[:,2].reshape(-1,) - output_data_tf[:,2]), color = 'g')\n",
        "plt.legend(['Error for Confirmed Cases', 'Error for Deaths','Error for Recovories'], fontsize=16)\n",
        "plt.xticks(rotation=80, weight='bold');\n",
        "plt.yticks(weight='bold')\n",
        "plt.show()\n"
      ],
      "metadata": {
        "id": "1P9bBJ85bN3l"
      },
      "execution_count": null,
      "outputs": []
    },
    {
      "cell_type": "code",
      "source": [
        "figure(num=None, figsize=(100, 8), dpi=80, facecolor='w', edgecolor='k')\n",
        "ax = plt.axes()\n",
        "ax.xaxis.set_major_locator(plticker.MultipleLocator(base=3.0)) # Skip x-axis ticks by ratio mentioned by base (float value)\n",
        "ax.tick_params(axis='both', which='major', labelsize=16)\n",
        "# plt.title(\"Fitting ANN Model on Training Data\")\n",
        "plt.plot(dates, \n",
        "         ann_future_model_prediction_on_training[:,0], '-*b', \n",
        "         ann_future_model_prediction_on_training[:,1], '-*r', \n",
        "         ann_future_model_prediction_on_training[:,2], '-*g',\n",
        "         future_dates, all_cases_future[:,0], '-ob', \n",
        "         future_dates, all_cases_future[:,1], '-or', \n",
        "         future_dates, all_cases_future[:,2], '-og', \n",
        "         linewidth = 2.5)\n",
        "plt.legend(['Past Data Confirmed Cases', 'Past Data Deaths','Past Data Recovories', 'Future Predictions of Confirmed Cases', \n",
        "            'Future Predictions of Deaths','Future Predictions of Recovories'], fontsize=16)\n",
        "plt.xticks(rotation=80, weight='bold');\n",
        "plt.yticks(weight='bold')\n",
        "plt.show()"
      ],
      "metadata": {
        "id": "PG1BtcGjbRjs"
      },
      "execution_count": null,
      "outputs": []
    },
    {
      "cell_type": "code",
      "source": [
        ""
      ],
      "metadata": {
        "id": "STVL8IF2bWR4"
      },
      "execution_count": null,
      "outputs": []
    }
  ]
}