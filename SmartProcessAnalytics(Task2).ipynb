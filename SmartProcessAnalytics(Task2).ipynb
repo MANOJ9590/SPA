{
  "nbformat": 4,
  "nbformat_minor": 0,
  "metadata": {
    "colab": {
      "name": "SmartProcessAnalytics(Task2).ipynb",
      "provenance": [],
      "collapsed_sections": [],
      "authorship_tag": "ABX9TyOaPQFwcoxivsMDExA+NLXS",
      "include_colab_link": true
    },
    "kernelspec": {
      "name": "python3",
      "display_name": "Python 3"
    },
    "language_info": {
      "name": "python"
    },
    "widgets": {
      "application/vnd.jupyter.widget-state+json": {
        "c5ce8b6945f94c6b888650d9f3053c12": {
          "model_module": "@jupyter-widgets/controls",
          "model_name": "HBoxModel",
          "model_module_version": "1.5.0",
          "state": {
            "_view_name": "HBoxView",
            "_dom_classes": [],
            "_model_name": "HBoxModel",
            "_view_module": "@jupyter-widgets/controls",
            "_model_module_version": "1.5.0",
            "_view_count": null,
            "_view_module_version": "1.5.0",
            "box_style": "",
            "layout": "IPY_MODEL_d03ceded1a1c446b895e2ea9a851e0d9",
            "_model_module": "@jupyter-widgets/controls",
            "children": [
              "IPY_MODEL_7ef22ea6c99b4f968c42fd20fb3bf8a6",
              "IPY_MODEL_2b155cbd797347418ac5d2774c2d097b",
              "IPY_MODEL_277c6c6386064a0eaa6f1694e8baa569"
            ]
          }
        },
        "d03ceded1a1c446b895e2ea9a851e0d9": {
          "model_module": "@jupyter-widgets/base",
          "model_name": "LayoutModel",
          "model_module_version": "1.2.0",
          "state": {
            "_view_name": "LayoutView",
            "grid_template_rows": null,
            "right": null,
            "justify_content": null,
            "_view_module": "@jupyter-widgets/base",
            "overflow": null,
            "_model_module_version": "1.2.0",
            "_view_count": null,
            "flex_flow": null,
            "width": null,
            "min_width": null,
            "border": null,
            "align_items": null,
            "bottom": null,
            "_model_module": "@jupyter-widgets/base",
            "top": null,
            "grid_column": null,
            "overflow_y": null,
            "overflow_x": null,
            "grid_auto_flow": null,
            "grid_area": null,
            "grid_template_columns": null,
            "flex": null,
            "_model_name": "LayoutModel",
            "justify_items": null,
            "grid_row": null,
            "max_height": null,
            "align_content": null,
            "visibility": null,
            "align_self": null,
            "height": null,
            "min_height": null,
            "padding": null,
            "grid_auto_rows": null,
            "grid_gap": null,
            "max_width": null,
            "order": null,
            "_view_module_version": "1.2.0",
            "grid_template_areas": null,
            "object_position": null,
            "object_fit": null,
            "grid_auto_columns": null,
            "margin": null,
            "display": null,
            "left": null
          }
        },
        "7ef22ea6c99b4f968c42fd20fb3bf8a6": {
          "model_module": "@jupyter-widgets/controls",
          "model_name": "HTMLModel",
          "model_module_version": "1.5.0",
          "state": {
            "_view_name": "HTMLView",
            "style": "IPY_MODEL_78cfe2e191d44f22bc017315a46bccd0",
            "_dom_classes": [],
            "description": "",
            "_model_name": "HTMLModel",
            "placeholder": "​",
            "_view_module": "@jupyter-widgets/controls",
            "_model_module_version": "1.5.0",
            "value": "parsing log, completed traces :: 100%",
            "_view_count": null,
            "_view_module_version": "1.5.0",
            "description_tooltip": null,
            "_model_module": "@jupyter-widgets/controls",
            "layout": "IPY_MODEL_5316a8b0dff1482f8516b888e0230764"
          }
        },
        "2b155cbd797347418ac5d2774c2d097b": {
          "model_module": "@jupyter-widgets/controls",
          "model_name": "FloatProgressModel",
          "model_module_version": "1.5.0",
          "state": {
            "_view_name": "ProgressView",
            "style": "IPY_MODEL_d1f53fc50b5445b08744ae96f0426ee0",
            "_dom_classes": [],
            "description": "",
            "_model_name": "FloatProgressModel",
            "bar_style": "success",
            "max": 14424,
            "_view_module": "@jupyter-widgets/controls",
            "_model_module_version": "1.5.0",
            "value": 14424,
            "_view_count": null,
            "_view_module_version": "1.5.0",
            "orientation": "horizontal",
            "min": 0,
            "description_tooltip": null,
            "_model_module": "@jupyter-widgets/controls",
            "layout": "IPY_MODEL_99f44d3e15614aa3901bdb2f998bfc93"
          }
        },
        "277c6c6386064a0eaa6f1694e8baa569": {
          "model_module": "@jupyter-widgets/controls",
          "model_name": "HTMLModel",
          "model_module_version": "1.5.0",
          "state": {
            "_view_name": "HTMLView",
            "style": "IPY_MODEL_03472e7283274954a73bb352f476391e",
            "_dom_classes": [],
            "description": "",
            "_model_name": "HTMLModel",
            "placeholder": "​",
            "_view_module": "@jupyter-widgets/controls",
            "_model_module_version": "1.5.0",
            "value": " 14424/14424 [01:48&lt;00:00, 138.54it/s]",
            "_view_count": null,
            "_view_module_version": "1.5.0",
            "description_tooltip": null,
            "_model_module": "@jupyter-widgets/controls",
            "layout": "IPY_MODEL_44a0bf4b52b34098ad2126e8d4746636"
          }
        },
        "78cfe2e191d44f22bc017315a46bccd0": {
          "model_module": "@jupyter-widgets/controls",
          "model_name": "DescriptionStyleModel",
          "model_module_version": "1.5.0",
          "state": {
            "_view_name": "StyleView",
            "_model_name": "DescriptionStyleModel",
            "description_width": "",
            "_view_module": "@jupyter-widgets/base",
            "_model_module_version": "1.5.0",
            "_view_count": null,
            "_view_module_version": "1.2.0",
            "_model_module": "@jupyter-widgets/controls"
          }
        },
        "5316a8b0dff1482f8516b888e0230764": {
          "model_module": "@jupyter-widgets/base",
          "model_name": "LayoutModel",
          "model_module_version": "1.2.0",
          "state": {
            "_view_name": "LayoutView",
            "grid_template_rows": null,
            "right": null,
            "justify_content": null,
            "_view_module": "@jupyter-widgets/base",
            "overflow": null,
            "_model_module_version": "1.2.0",
            "_view_count": null,
            "flex_flow": null,
            "width": null,
            "min_width": null,
            "border": null,
            "align_items": null,
            "bottom": null,
            "_model_module": "@jupyter-widgets/base",
            "top": null,
            "grid_column": null,
            "overflow_y": null,
            "overflow_x": null,
            "grid_auto_flow": null,
            "grid_area": null,
            "grid_template_columns": null,
            "flex": null,
            "_model_name": "LayoutModel",
            "justify_items": null,
            "grid_row": null,
            "max_height": null,
            "align_content": null,
            "visibility": null,
            "align_self": null,
            "height": null,
            "min_height": null,
            "padding": null,
            "grid_auto_rows": null,
            "grid_gap": null,
            "max_width": null,
            "order": null,
            "_view_module_version": "1.2.0",
            "grid_template_areas": null,
            "object_position": null,
            "object_fit": null,
            "grid_auto_columns": null,
            "margin": null,
            "display": null,
            "left": null
          }
        },
        "d1f53fc50b5445b08744ae96f0426ee0": {
          "model_module": "@jupyter-widgets/controls",
          "model_name": "ProgressStyleModel",
          "model_module_version": "1.5.0",
          "state": {
            "_view_name": "StyleView",
            "_model_name": "ProgressStyleModel",
            "description_width": "",
            "_view_module": "@jupyter-widgets/base",
            "_model_module_version": "1.5.0",
            "_view_count": null,
            "_view_module_version": "1.2.0",
            "bar_color": null,
            "_model_module": "@jupyter-widgets/controls"
          }
        },
        "99f44d3e15614aa3901bdb2f998bfc93": {
          "model_module": "@jupyter-widgets/base",
          "model_name": "LayoutModel",
          "model_module_version": "1.2.0",
          "state": {
            "_view_name": "LayoutView",
            "grid_template_rows": null,
            "right": null,
            "justify_content": null,
            "_view_module": "@jupyter-widgets/base",
            "overflow": null,
            "_model_module_version": "1.2.0",
            "_view_count": null,
            "flex_flow": null,
            "width": null,
            "min_width": null,
            "border": null,
            "align_items": null,
            "bottom": null,
            "_model_module": "@jupyter-widgets/base",
            "top": null,
            "grid_column": null,
            "overflow_y": null,
            "overflow_x": null,
            "grid_auto_flow": null,
            "grid_area": null,
            "grid_template_columns": null,
            "flex": null,
            "_model_name": "LayoutModel",
            "justify_items": null,
            "grid_row": null,
            "max_height": null,
            "align_content": null,
            "visibility": null,
            "align_self": null,
            "height": null,
            "min_height": null,
            "padding": null,
            "grid_auto_rows": null,
            "grid_gap": null,
            "max_width": null,
            "order": null,
            "_view_module_version": "1.2.0",
            "grid_template_areas": null,
            "object_position": null,
            "object_fit": null,
            "grid_auto_columns": null,
            "margin": null,
            "display": null,
            "left": null
          }
        },
        "03472e7283274954a73bb352f476391e": {
          "model_module": "@jupyter-widgets/controls",
          "model_name": "DescriptionStyleModel",
          "model_module_version": "1.5.0",
          "state": {
            "_view_name": "StyleView",
            "_model_name": "DescriptionStyleModel",
            "description_width": "",
            "_view_module": "@jupyter-widgets/base",
            "_model_module_version": "1.5.0",
            "_view_count": null,
            "_view_module_version": "1.2.0",
            "_model_module": "@jupyter-widgets/controls"
          }
        },
        "44a0bf4b52b34098ad2126e8d4746636": {
          "model_module": "@jupyter-widgets/base",
          "model_name": "LayoutModel",
          "model_module_version": "1.2.0",
          "state": {
            "_view_name": "LayoutView",
            "grid_template_rows": null,
            "right": null,
            "justify_content": null,
            "_view_module": "@jupyter-widgets/base",
            "overflow": null,
            "_model_module_version": "1.2.0",
            "_view_count": null,
            "flex_flow": null,
            "width": null,
            "min_width": null,
            "border": null,
            "align_items": null,
            "bottom": null,
            "_model_module": "@jupyter-widgets/base",
            "top": null,
            "grid_column": null,
            "overflow_y": null,
            "overflow_x": null,
            "grid_auto_flow": null,
            "grid_area": null,
            "grid_template_columns": null,
            "flex": null,
            "_model_name": "LayoutModel",
            "justify_items": null,
            "grid_row": null,
            "max_height": null,
            "align_content": null,
            "visibility": null,
            "align_self": null,
            "height": null,
            "min_height": null,
            "padding": null,
            "grid_auto_rows": null,
            "grid_gap": null,
            "max_width": null,
            "order": null,
            "_view_module_version": "1.2.0",
            "grid_template_areas": null,
            "object_position": null,
            "object_fit": null,
            "grid_auto_columns": null,
            "margin": null,
            "display": null,
            "left": null
          }
        }
      }
    }
  },
  "cells": [
    {
      "cell_type": "markdown",
      "metadata": {
        "id": "view-in-github",
        "colab_type": "text"
      },
      "source": [
        "<a href=\"https://colab.research.google.com/github/MANOJ9590/SPA/blob/main/SmartProcessAnalytics(Task2).ipynb\" target=\"_parent\"><img src=\"https://colab.research.google.com/assets/colab-badge.svg\" alt=\"Open In Colab\"/></a>"
      ]
    },
    {
      "cell_type": "markdown",
      "source": [
        "#Part 2 - Predictive Analysis based on the event log\n",
        "\n",
        "---\n",
        "Group 12\n",
        "\n",
        "\n",
        "*   List item\n",
        "*   List item\n",
        "*   List item\n",
        "*   List item\n",
        "*   List item\n",
        "*   List item\n",
        "\n",
        "\n"
      ],
      "metadata": {
        "id": "dc1puGt0nQHC"
      }
    },
    {
      "cell_type": "code",
      "source": [
        "!pip install pm4py"
      ],
      "metadata": {
        "id": "477QxO6enPXI"
      },
      "execution_count": null,
      "outputs": []
    },
    {
      "cell_type": "code",
      "source": [
        "import pm4py\n",
        "import pandas as pd"
      ],
      "metadata": {
        "id": "lPw6YsL3ZX-f"
      },
      "execution_count": 2,
      "outputs": []
    },
    {
      "cell_type": "code",
      "source": [
        "from google.colab import drive\n",
        "drive.mount('/content/drive')"
      ],
      "metadata": {
        "id": "7HNCr-OZaXT-"
      },
      "execution_count": null,
      "outputs": []
    },
    {
      "cell_type": "code",
      "source": [
        "def import_xes(filepath):\n",
        "  return pm4py.read_xes(filepath)"
      ],
      "metadata": {
        "id": "usK39ppyZ8gv"
      },
      "execution_count": 4,
      "outputs": []
    },
    {
      "cell_type": "code",
      "source": [
        "def events_to_cases(eventlog):\n",
        "  case={}\n",
        "  complete_events = []\n",
        "  for concept in range(0,len(eventlog)) :\n",
        "    events = []\n",
        "    for name in range(0 ,len(eventlog[concept])):\n",
        "      events.append(eventlog[concept][name]['concept:name'])\n",
        "      complete_events.append(eventlog[concept][name]['concept:name'])\n",
        "      case[concept] = events\n",
        "  return case,complete_events"
      ],
      "metadata": {
        "id": "vfEb-T2sbSwI"
      },
      "execution_count": 5,
      "outputs": []
    },
    {
      "cell_type": "code",
      "source": [
        "def runing_instance_sublist_check(Ngram_sequence,trace):\n",
        "    for i in range(len(trace) - len(Ngram_sequence) + 1):\n",
        "      if ((Ngram_sequence) == (trace[i:i+len(Ngram_sequence)])): return True\n",
        "    return False"
      ],
      "metadata": {
        "id": "oYqzU7ijfRjg"
      },
      "execution_count": 6,
      "outputs": []
    },
    {
      "cell_type": "code",
      "source": [
        "def computing_probabilites(events_log, n_th_gram, running_instance):\n",
        "  if (n_th_gram <= len(running_instance)):\n",
        "    predections=[]\n",
        "    incremental_predection_probability={}\n",
        "    for i in range(n_th_gram):\n",
        "      if(n_th_gram >=1):\n",
        "        Ngram_seq = running_instance[-n_th_gram : ]\n",
        "        n_th_element = Ngram_seq[len(Ngram_seq)-1]\n",
        "        for j in range(len(events_log)):\n",
        "          if(runing_instance_sublist_check(Ngram_seq,events_log[j])==True):\n",
        "            next_event=(events_log[j].index(n_th_element)+1)\n",
        "            if(len(events_log[j]) == next_event):\n",
        "              continue\n",
        "            predection = events_log[j][next_event]\n",
        "            predections.append(predection)\n",
        "        max_occurance = max(predections, key = predections.count)\n",
        "        occurance = dict((element,predections.count(element)) for element in set(predections))\n",
        "        probabilities = {}\n",
        "        for k, v in occurance.items():\n",
        "          probabilities[k] = round(v /sum(occurance.values()),4)\n",
        "      incremental_predection_probability[str(n_th_gram) + \"- Gram\"] = probabilities\n",
        "      n_th_gram -= 1\n",
        "    return pd.DataFrame(incremental_predection_probability).fillna(0)\n",
        "  else : \n",
        "    print(\"range of Ngram value should be less or equal to number of events in running instance input provided\")"
      ],
      "metadata": {
        "id": "t4HQxIbvgXxA"
      },
      "execution_count": 7,
      "outputs": []
    },
    {
      "cell_type": "code",
      "source": [
        "cases,Total_events=events_to_cases(import_xes('/content/drive/MyDrive/BPIChallenge2018.xes'))"
      ],
      "metadata": {
        "colab": {
          "base_uri": "https://localhost:8080/",
          "height": 49,
          "referenced_widgets": [
            "c5ce8b6945f94c6b888650d9f3053c12",
            "d03ceded1a1c446b895e2ea9a851e0d9",
            "7ef22ea6c99b4f968c42fd20fb3bf8a6",
            "2b155cbd797347418ac5d2774c2d097b",
            "277c6c6386064a0eaa6f1694e8baa569",
            "78cfe2e191d44f22bc017315a46bccd0",
            "5316a8b0dff1482f8516b888e0230764",
            "d1f53fc50b5445b08744ae96f0426ee0",
            "99f44d3e15614aa3901bdb2f998bfc93",
            "03472e7283274954a73bb352f476391e",
            "44a0bf4b52b34098ad2126e8d4746636"
          ]
        },
        "id": "ygXW-xQ1Jf-d",
        "outputId": "1f44a20f-476d-4d3e-c000-2939322aab94"
      },
      "execution_count": 8,
      "outputs": [
        {
          "output_type": "display_data",
          "data": {
            "application/vnd.jupyter.widget-view+json": {
              "model_id": "c5ce8b6945f94c6b888650d9f3053c12",
              "version_minor": 0,
              "version_major": 2
            },
            "text/plain": [
              "parsing log, completed traces ::   0%|          | 0/14424 [00:00<?, ?it/s]"
            ]
          },
          "metadata": {}
        }
      ]
    },
    {
      "cell_type": "code",
      "source": [
        "import yaml\n",
        "#insert any number between 1 to 14424 to get the sequece to design the running sequence in the next step \n",
        "print(yaml.dump(cases[23]))"
      ],
      "metadata": {
        "colab": {
          "base_uri": "https://localhost:8080/"
        },
        "id": "rKws5KaDj8b5",
        "outputId": "5916d034-8dd1-49af-f605-88c12c057aae"
      },
      "execution_count": 9,
      "outputs": [
        {
          "output_type": "stream",
          "name": "stdout",
          "text": [
            "[mail valid, initialize, begin editing, finish pre-check, finish editing, initialize,\n",
            "  begin editing, finish editing, finish editing, create, mail income, begin editing,\n",
            "  begin editing, finish pre-check, finish editing, create, begin editing, begin editing,\n",
            "  finish pre-check, finish editing, create, initialize, performed, initialize, begin\n",
            "    editing, calculate, finish editing, begin editing, calculate, finish editing,\n",
            "  begin editing, calculate, finish editing, begin editing, calculate, finish editing,\n",
            "  begin editing, calculate, finish editing, begin editing, calculate, finish editing,\n",
            "  begin editing, calculate, finish editing, begin editing, calculate, finish editing,\n",
            "  begin editing, calculate, calculate, finish editing, decide, begin payment, insert\n",
            "    document, insert document, finish payment]\n",
            "\n"
          ]
        }
      ]
    },
    {
      "cell_type": "code",
      "source": [
        "running_process_instance = ['mail valid', 'initialize']\n",
        "# enter the number less than or equal to nuber of event sin runnning instance input provided\n",
        "Ngram_input = 2\n",
        "print(\"Dataset contains\",str(len(Total_events)), \"events suming to\", str(len(cases)) ,\"cases\\n\",)\n",
        "print('\\033[1m'+\"Predective analysis \\n\\n\")\n",
        "print(computing_probabilites(cases,Ngram_input,running_process_instance).to_markdown(tablefmt=\"grid\"))"
      ],
      "metadata": {
        "colab": {
          "base_uri": "https://localhost:8080/"
        },
        "id": "1VEmspaLaNOF",
        "outputId": "9e9bf76f-b64e-44cb-d175-baec603ce1ab"
      },
      "execution_count": 10,
      "outputs": [
        {
          "output_type": "stream",
          "name": "stdout",
          "text": [
            "Dataset contains 847383 events suming to 14424 cases\n",
            "\n",
            "\u001b[1mPredective analysis \n",
            "\n",
            "\n",
            "+---------------+-----------+-----------+\n",
            "|               |   2- Gram |   1- Gram |\n",
            "+===============+===========+===========+\n",
            "| begin editing |    0.9961 |    0.9962 |\n",
            "+---------------+-----------+-----------+\n",
            "| initialize    |    0.0039 |    0.0038 |\n",
            "+---------------+-----------+-----------+\n"
          ]
        }
      ]
    }
  ]
}